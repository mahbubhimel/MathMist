{
  "nbformat": 4,
  "nbformat_minor": 0,
  "metadata": {
    "colab": {
      "provenance": []
    },
    "kernelspec": {
      "name": "python3",
      "display_name": "Python 3"
    },
    "language_info": {
      "name": "python"
    }
  },
  "cells": [
    {
      "cell_type": "code",
      "execution_count": null,
      "metadata": {
        "colab": {
          "base_uri": "https://localhost:8080/"
        },
        "id": "V5_5xJwdS6l2",
        "outputId": "1c96f93a-cce2-4d5e-e5d4-7b4567024a6a"
      },
      "outputs": [
        {
          "output_type": "stream",
          "name": "stdout",
          "text": [
            "Gemini justification evaluator initialized with model: gemini-2.5-flash-lite\n",
            "Loaded 150 problems from JSON file\n"
          ]
        },
        {
          "output_type": "stream",
          "name": "stderr",
          "text": [
            "Evaluating justifications with Gemini:   1%|          | 1/150 [00:04<11:36,  4.67s/it]"
          ]
        },
        {
          "output_type": "stream",
          "name": "stdout",
          "text": [
            "Problem 0: Decision=YES, Secondary=False Positive (conf: 0.95)\n"
          ]
        },
        {
          "output_type": "stream",
          "name": "stderr",
          "text": [
            "\rEvaluating justifications with Gemini:   1%|▏         | 2/150 [00:10<13:36,  5.51s/it]"
          ]
        },
        {
          "output_type": "stream",
          "name": "stdout",
          "text": [
            "Problem 1: Decision=YES, Secondary=False Negative (conf: 1.00)\n"
          ]
        },
        {
          "output_type": "stream",
          "name": "stderr",
          "text": [
            "\rEvaluating justifications with Gemini:   2%|▏         | 3/150 [00:18<16:21,  6.68s/it]"
          ]
        },
        {
          "output_type": "stream",
          "name": "stdout",
          "text": [
            "Problem 2: Decision=YES, Secondary=True Positive (conf: 0.95)\n"
          ]
        },
        {
          "output_type": "stream",
          "name": "stderr",
          "text": [
            "\rEvaluating justifications with Gemini:   3%|▎         | 4/150 [00:29<19:44,  8.11s/it]"
          ]
        },
        {
          "output_type": "stream",
          "name": "stdout",
          "text": [
            "Problem 3: Decision=YES, Secondary=False Positive (conf: 0.75)\n"
          ]
        },
        {
          "output_type": "stream",
          "name": "stderr",
          "text": [
            "\rEvaluating justifications with Gemini:   3%|▎         | 5/150 [00:35<17:46,  7.35s/it]"
          ]
        },
        {
          "output_type": "stream",
          "name": "stdout",
          "text": [
            "Problem 4: Decision=YES, Secondary=False Positive (conf: 0.75)\n"
          ]
        },
        {
          "output_type": "stream",
          "name": "stderr",
          "text": [
            "\rEvaluating justifications with Gemini:   4%|▍         | 6/150 [00:41<16:32,  6.89s/it]"
          ]
        },
        {
          "output_type": "stream",
          "name": "stdout",
          "text": [
            "Problem 5: Decision=YES, Secondary=False Positive (conf: 0.85)\n"
          ]
        },
        {
          "output_type": "stream",
          "name": "stderr",
          "text": [
            "\rEvaluating justifications with Gemini:   5%|▍         | 7/150 [00:51<19:09,  8.04s/it]"
          ]
        },
        {
          "output_type": "stream",
          "name": "stdout",
          "text": [
            "Problem 6: Decision=YES, Secondary=True Positive (conf: 0.90)\n"
          ]
        },
        {
          "output_type": "stream",
          "name": "stderr",
          "text": [
            "\rEvaluating justifications with Gemini:   5%|▌         | 8/150 [01:00<19:50,  8.39s/it]"
          ]
        },
        {
          "output_type": "stream",
          "name": "stdout",
          "text": [
            "Problem 7: Decision=YES, Secondary=False Positive (conf: 0.85)\n"
          ]
        },
        {
          "output_type": "stream",
          "name": "stderr",
          "text": [
            "\rEvaluating justifications with Gemini:   6%|▌         | 9/150 [01:12<22:29,  9.57s/it]"
          ]
        },
        {
          "output_type": "stream",
          "name": "stdout",
          "text": [
            "Problem 8: Decision=NO, Secondary=False Negative (conf: 0.95)\n"
          ]
        },
        {
          "output_type": "stream",
          "name": "stderr",
          "text": [
            "\rEvaluating justifications with Gemini:   7%|▋         | 10/150 [01:21<21:46,  9.33s/it]"
          ]
        },
        {
          "output_type": "stream",
          "name": "stdout",
          "text": [
            "Problem 9: Decision=NO, Secondary=False Negative (conf: 0.95)\n"
          ]
        },
        {
          "output_type": "stream",
          "name": "stderr",
          "text": [
            "\rEvaluating justifications with Gemini:   7%|▋         | 11/150 [01:31<21:54,  9.45s/it]"
          ]
        },
        {
          "output_type": "stream",
          "name": "stdout",
          "text": [
            "Problem 10: Decision=YES, Secondary=False Positive\n"
          ]
        },
        {
          "output_type": "stream",
          "name": "stderr",
          "text": [
            "\rEvaluating justifications with Gemini:   8%|▊         | 12/150 [01:44<24:24, 10.61s/it]"
          ]
        },
        {
          "output_type": "stream",
          "name": "stdout",
          "text": [
            "Problem 11: Decision=YES, Secondary=False Positive (conf: 0.95)\n"
          ]
        },
        {
          "output_type": "stream",
          "name": "stderr",
          "text": [
            "\rEvaluating justifications with Gemini:   9%|▊         | 13/150 [02:00<28:00, 12.27s/it]"
          ]
        },
        {
          "output_type": "stream",
          "name": "stdout",
          "text": [
            "Problem 12: Decision=YES, Secondary=False Positive (conf: 0.90)\n"
          ]
        },
        {
          "output_type": "stream",
          "name": "stderr",
          "text": [
            "\rEvaluating justifications with Gemini:   9%|▉         | 14/150 [02:08<24:52, 10.97s/it]"
          ]
        },
        {
          "output_type": "stream",
          "name": "stdout",
          "text": [
            "Problem 13: Decision=YES, Secondary=False Negative (conf: 0.95)\n"
          ]
        },
        {
          "output_type": "stream",
          "name": "stderr",
          "text": [
            "\rEvaluating justifications with Gemini:  10%|█         | 15/150 [02:20<25:32, 11.35s/it]"
          ]
        },
        {
          "output_type": "stream",
          "name": "stdout",
          "text": [
            "Problem 14: Decision=YES, Secondary=False Positive (conf: 0.95)\n"
          ]
        },
        {
          "output_type": "stream",
          "name": "stderr",
          "text": [
            "\rEvaluating justifications with Gemini:  11%|█         | 16/150 [02:30<23:54, 10.70s/it]"
          ]
        },
        {
          "output_type": "stream",
          "name": "stdout",
          "text": [
            "Problem 15: Decision=YES, Secondary=True Positive (conf: 0.90)\n"
          ]
        },
        {
          "output_type": "stream",
          "name": "stderr",
          "text": [
            "\rEvaluating justifications with Gemini:  11%|█▏        | 17/150 [02:43<25:42, 11.60s/it]"
          ]
        },
        {
          "output_type": "stream",
          "name": "stdout",
          "text": [
            "Problem 16: Decision=YES, Secondary=False Positive (conf: 0.95)\n"
          ]
        },
        {
          "output_type": "stream",
          "name": "stderr",
          "text": [
            "\rEvaluating justifications with Gemini:  12%|█▏        | 18/150 [02:55<25:16, 11.49s/it]"
          ]
        },
        {
          "output_type": "stream",
          "name": "stdout",
          "text": [
            "Problem 17: Decision=YES, Secondary=False Positive (conf: 0.70)\n"
          ]
        },
        {
          "output_type": "stream",
          "name": "stderr",
          "text": [
            "\rEvaluating justifications with Gemini:  13%|█▎        | 19/150 [03:03<23:04, 10.57s/it]"
          ]
        },
        {
          "output_type": "stream",
          "name": "stdout",
          "text": [
            "Problem 18: Decision=YES, Secondary=False Positive (conf: 0.70)\n"
          ]
        },
        {
          "output_type": "stream",
          "name": "stderr",
          "text": [
            "\rEvaluating justifications with Gemini:  13%|█▎        | 20/150 [03:11<21:06,  9.75s/it]"
          ]
        },
        {
          "output_type": "stream",
          "name": "stdout",
          "text": [
            "Problem 19: Decision=YES, Secondary=True Positive (conf: 0.90)\n"
          ]
        },
        {
          "output_type": "stream",
          "name": "stderr",
          "text": [
            "\rEvaluating justifications with Gemini:  14%|█▍        | 21/150 [03:17<18:50,  8.76s/it]"
          ]
        },
        {
          "output_type": "stream",
          "name": "stdout",
          "text": [
            "Problem 20: Decision=YES, Secondary=False Negative (conf: 0.95)\n"
          ]
        },
        {
          "output_type": "stream",
          "name": "stderr",
          "text": [
            "\rEvaluating justifications with Gemini:  15%|█▍        | 22/150 [03:26<18:33,  8.70s/it]"
          ]
        },
        {
          "output_type": "stream",
          "name": "stdout",
          "text": [
            "Problem 21: Decision=NO, Secondary=False Negative (conf: 0.95)\n"
          ]
        },
        {
          "output_type": "stream",
          "name": "stderr",
          "text": [
            "\rEvaluating justifications with Gemini:  15%|█▌        | 23/150 [03:39<21:18, 10.07s/it]"
          ]
        },
        {
          "output_type": "stream",
          "name": "stdout",
          "text": [
            "Problem 22: Decision=YES, Secondary=True Positive (conf: 0.95)\n"
          ]
        },
        {
          "output_type": "stream",
          "name": "stderr",
          "text": [
            "\rEvaluating justifications with Gemini:  16%|█▌        | 24/150 [03:48<20:14,  9.64s/it]"
          ]
        },
        {
          "output_type": "stream",
          "name": "stdout",
          "text": [
            "Problem 23: Decision=YES, Secondary=False Positive (conf: 0.70)\n"
          ]
        },
        {
          "output_type": "stream",
          "name": "stderr",
          "text": [
            "\rEvaluating justifications with Gemini:  17%|█▋        | 25/150 [04:00<21:27, 10.30s/it]"
          ]
        },
        {
          "output_type": "stream",
          "name": "stdout",
          "text": [
            "Problem 24: Decision=YES, Secondary=True Positive (conf: 0.90)\n"
          ]
        },
        {
          "output_type": "stream",
          "name": "stderr",
          "text": [
            "\rEvaluating justifications with Gemini:  17%|█▋        | 26/150 [04:09<20:26,  9.89s/it]"
          ]
        },
        {
          "output_type": "stream",
          "name": "stdout",
          "text": [
            "Problem 25: Decision=NO, Secondary=False Negative (conf: 0.95)\n"
          ]
        },
        {
          "output_type": "stream",
          "name": "stderr",
          "text": [
            "\rEvaluating justifications with Gemini:  18%|█▊        | 27/150 [04:18<19:56,  9.73s/it]"
          ]
        },
        {
          "output_type": "stream",
          "name": "stdout",
          "text": [
            "Problem 26: Decision=NO, Secondary=False Negative (conf: 0.90)\n"
          ]
        },
        {
          "output_type": "stream",
          "name": "stderr",
          "text": [
            "\rEvaluating justifications with Gemini:  19%|█▊        | 28/150 [04:27<19:33,  9.62s/it]"
          ]
        },
        {
          "output_type": "stream",
          "name": "stdout",
          "text": [
            "Problem 27: Decision=YES, Secondary=True Positive (conf: 0.95)\n"
          ]
        },
        {
          "output_type": "stream",
          "name": "stderr",
          "text": [
            "\rEvaluating justifications with Gemini:  19%|█▉        | 29/150 [04:42<22:48, 11.31s/it]"
          ]
        },
        {
          "output_type": "stream",
          "name": "stdout",
          "text": [
            "Problem 28: Decision=YES, Secondary=False Positive (conf: 0.90)\n"
          ]
        },
        {
          "output_type": "stream",
          "name": "stderr",
          "text": [
            "\rEvaluating justifications with Gemini:  20%|██        | 30/150 [04:54<22:29, 11.25s/it]"
          ]
        },
        {
          "output_type": "stream",
          "name": "stdout",
          "text": [
            "Problem 29: Decision=YES, Secondary=True Positive (conf: 0.85)\n"
          ]
        },
        {
          "output_type": "stream",
          "name": "stderr",
          "text": [
            "\rEvaluating justifications with Gemini:  21%|██        | 31/150 [05:01<20:15, 10.21s/it]"
          ]
        },
        {
          "output_type": "stream",
          "name": "stdout",
          "text": [
            "Problem 30: Decision=YES, Secondary=False Positive (conf: 0.95)\n"
          ]
        },
        {
          "output_type": "stream",
          "name": "stderr",
          "text": [
            "\rEvaluating justifications with Gemini:  21%|██▏       | 32/150 [05:17<23:10, 11.78s/it]"
          ]
        },
        {
          "output_type": "stream",
          "name": "stdout",
          "text": [
            "Problem 31: Decision=YES, Secondary=False Positive (conf: 0.95)\n"
          ]
        },
        {
          "output_type": "stream",
          "name": "stderr",
          "text": [
            "\rEvaluating justifications with Gemini:  22%|██▏       | 33/150 [05:24<20:28, 10.50s/it]"
          ]
        },
        {
          "output_type": "stream",
          "name": "stdout",
          "text": [
            "Problem 32: Decision=YES, Secondary=False Positive (conf: 0.95)\n"
          ]
        },
        {
          "output_type": "stream",
          "name": "stderr",
          "text": [
            "\rEvaluating justifications with Gemini:  23%|██▎       | 34/150 [05:30<17:37,  9.11s/it]"
          ]
        },
        {
          "output_type": "stream",
          "name": "stdout",
          "text": [
            "Problem 33: Decision=YES, Secondary=False Positive (conf: 0.95)\n"
          ]
        },
        {
          "output_type": "stream",
          "name": "stderr",
          "text": [
            "\rEvaluating justifications with Gemini:  23%|██▎       | 35/150 [05:36<15:36,  8.14s/it]"
          ]
        },
        {
          "output_type": "stream",
          "name": "stdout",
          "text": [
            "Problem 34: Decision=YES, Secondary=False Positive (conf: 0.90)\n"
          ]
        },
        {
          "output_type": "stream",
          "name": "stderr",
          "text": [
            "\rEvaluating justifications with Gemini:  24%|██▍       | 36/150 [05:45<15:53,  8.36s/it]"
          ]
        },
        {
          "output_type": "stream",
          "name": "stdout",
          "text": [
            "Problem 35: Decision=YES, Secondary=True Positive (conf: 0.85)\n"
          ]
        },
        {
          "output_type": "stream",
          "name": "stderr",
          "text": [
            "\rEvaluating justifications with Gemini:  25%|██▍       | 37/150 [05:54<16:24,  8.72s/it]"
          ]
        },
        {
          "output_type": "stream",
          "name": "stdout",
          "text": [
            "Problem 36: Decision=NO, Secondary=False Negative (conf: 0.95)\n"
          ]
        },
        {
          "output_type": "stream",
          "name": "stderr",
          "text": [
            "\rEvaluating justifications with Gemini:  25%|██▌       | 38/150 [06:04<16:37,  8.90s/it]"
          ]
        },
        {
          "output_type": "stream",
          "name": "stdout",
          "text": [
            "Problem 37: Decision=NO, Secondary=False Negative (conf: 1.00)\n"
          ]
        },
        {
          "output_type": "stream",
          "name": "stderr",
          "text": [
            "\rEvaluating justifications with Gemini:  26%|██▌       | 39/150 [06:11<15:16,  8.26s/it]"
          ]
        },
        {
          "output_type": "stream",
          "name": "stdout",
          "text": [
            "Problem 38: Decision=YES, Secondary=False Negative (conf: 0.95)\n"
          ]
        },
        {
          "output_type": "stream",
          "name": "stderr",
          "text": [
            "\rEvaluating justifications with Gemini:  27%|██▋       | 40/150 [06:20<15:35,  8.50s/it]"
          ]
        },
        {
          "output_type": "stream",
          "name": "stdout",
          "text": [
            "Problem 39: Decision=YES, Secondary=True Positive (conf: 0.95)\n"
          ]
        },
        {
          "output_type": "stream",
          "name": "stderr",
          "text": [
            "\rEvaluating justifications with Gemini:  27%|██▋       | 41/150 [06:29<16:07,  8.87s/it]"
          ]
        },
        {
          "output_type": "stream",
          "name": "stdout",
          "text": [
            "Problem 40: Decision=NO, Secondary=False Negative (conf: 0.95)\n"
          ]
        },
        {
          "output_type": "stream",
          "name": "stderr",
          "text": [
            "\rEvaluating justifications with Gemini:  28%|██▊       | 42/150 [06:41<17:41,  9.83s/it]"
          ]
        },
        {
          "output_type": "stream",
          "name": "stdout",
          "text": [
            "Problem 41: Decision=YES, Secondary=True Positive (conf: 0.95)\n"
          ]
        },
        {
          "output_type": "stream",
          "name": "stderr",
          "text": [
            "\rEvaluating justifications with Gemini:  29%|██▊       | 43/150 [06:51<17:17,  9.70s/it]"
          ]
        },
        {
          "output_type": "stream",
          "name": "stdout",
          "text": [
            "Problem 42: Decision=YES, Secondary=False Positive (conf: 0.85)\n"
          ]
        },
        {
          "output_type": "stream",
          "name": "stderr",
          "text": [
            "\rEvaluating justifications with Gemini:  29%|██▉       | 44/150 [07:02<17:39, 10.00s/it]"
          ]
        },
        {
          "output_type": "stream",
          "name": "stdout",
          "text": [
            "Problem 43: Decision=YES, Secondary=False Positive (conf: 0.95)\n"
          ]
        },
        {
          "output_type": "stream",
          "name": "stderr",
          "text": [
            "\rEvaluating justifications with Gemini:  30%|███       | 45/150 [07:10<16:43,  9.55s/it]"
          ]
        },
        {
          "output_type": "stream",
          "name": "stdout",
          "text": [
            "Problem 44: Decision=YES, Secondary=False Negative (conf: 0.95)\n"
          ]
        },
        {
          "output_type": "stream",
          "name": "stderr",
          "text": [
            "\rEvaluating justifications with Gemini:  31%|███       | 46/150 [07:19<16:11,  9.34s/it]"
          ]
        },
        {
          "output_type": "stream",
          "name": "stdout",
          "text": [
            "Problem 45: Decision=NO, Secondary=False Negative (conf: 0.95)\n"
          ]
        },
        {
          "output_type": "stream",
          "name": "stderr",
          "text": [
            "\rEvaluating justifications with Gemini:  31%|███▏      | 47/150 [07:25<14:19,  8.34s/it]"
          ]
        },
        {
          "output_type": "stream",
          "name": "stdout",
          "text": [
            "Problem 46: Decision=YES, Secondary=False Positive (conf: 0.95)\n"
          ]
        },
        {
          "output_type": "stream",
          "name": "stderr",
          "text": [
            "\rEvaluating justifications with Gemini:  32%|███▏      | 48/150 [07:33<14:14,  8.38s/it]"
          ]
        },
        {
          "output_type": "stream",
          "name": "stdout",
          "text": [
            "Problem 47: Decision=YES, Secondary=False Positive (conf: 0.95)\n"
          ]
        },
        {
          "output_type": "stream",
          "name": "stderr",
          "text": [
            "\rEvaluating justifications with Gemini:  33%|███▎      | 49/150 [07:44<15:14,  9.05s/it]"
          ]
        },
        {
          "output_type": "stream",
          "name": "stdout",
          "text": [
            "Problem 48: Decision=YES, Secondary=False Positive (conf: 0.95)\n"
          ]
        },
        {
          "output_type": "stream",
          "name": "stderr",
          "text": [
            "\rEvaluating justifications with Gemini:  33%|███▎      | 50/150 [08:08<22:43, 13.63s/it]"
          ]
        },
        {
          "output_type": "stream",
          "name": "stdout",
          "text": [
            "Problem 49: Decision=YES, Secondary=False Positive (conf: 0.90)\n"
          ]
        },
        {
          "output_type": "stream",
          "name": "stderr",
          "text": [
            "\rEvaluating justifications with Gemini:  34%|███▍      | 51/150 [08:18<20:34, 12.47s/it]"
          ]
        },
        {
          "output_type": "stream",
          "name": "stdout",
          "text": [
            "Problem 50: Decision=YES, Secondary=False Positive (conf: 0.80)\n"
          ]
        },
        {
          "output_type": "stream",
          "name": "stderr",
          "text": [
            "\rEvaluating justifications with Gemini:  35%|███▍      | 52/150 [08:28<19:08, 11.72s/it]"
          ]
        },
        {
          "output_type": "stream",
          "name": "stdout",
          "text": [
            "Problem 51: Decision=YES, Secondary=False Positive (conf: 0.90)\n"
          ]
        },
        {
          "output_type": "stream",
          "name": "stderr",
          "text": [
            "\rEvaluating justifications with Gemini:  35%|███▌      | 53/150 [08:41<19:37, 12.14s/it]"
          ]
        },
        {
          "output_type": "stream",
          "name": "stdout",
          "text": [
            "Problem 52: Decision=YES, Secondary=False Positive (conf: 0.95)\n"
          ]
        },
        {
          "output_type": "stream",
          "name": "stderr",
          "text": [
            "\rEvaluating justifications with Gemini:  36%|███▌      | 54/150 [08:49<17:33, 10.98s/it]"
          ]
        },
        {
          "output_type": "stream",
          "name": "stdout",
          "text": [
            "Problem 53: Decision=YES, Secondary=True Positive (conf: 0.80)\n"
          ]
        },
        {
          "output_type": "stream",
          "name": "stderr",
          "text": [
            "\rEvaluating justifications with Gemini:  37%|███▋      | 55/150 [08:58<16:15, 10.27s/it]"
          ]
        },
        {
          "output_type": "stream",
          "name": "stdout",
          "text": [
            "Problem 54: Decision=YES, Secondary=False Negative (conf: 0.98)\n"
          ]
        },
        {
          "output_type": "stream",
          "name": "stderr",
          "text": [
            "\rEvaluating justifications with Gemini:  37%|███▋      | 56/150 [09:07<15:40, 10.00s/it]"
          ]
        },
        {
          "output_type": "stream",
          "name": "stdout",
          "text": [
            "Problem 55: Decision=YES, Secondary=False Positive (conf: 0.90)\n"
          ]
        },
        {
          "output_type": "stream",
          "name": "stderr",
          "text": [
            "\rEvaluating justifications with Gemini:  38%|███▊      | 57/150 [09:16<14:50,  9.58s/it]"
          ]
        },
        {
          "output_type": "stream",
          "name": "stdout",
          "text": [
            "Problem 56: Decision=NO, Secondary=False Negative (conf: 0.95)\n"
          ]
        },
        {
          "output_type": "stream",
          "name": "stderr",
          "text": [
            "\rEvaluating justifications with Gemini:  39%|███▊      | 58/150 [09:26<14:55,  9.73s/it]"
          ]
        },
        {
          "output_type": "stream",
          "name": "stdout",
          "text": [
            "Problem 57: Decision=YES, Secondary=True Positive (conf: 0.95)\n"
          ]
        },
        {
          "output_type": "stream",
          "name": "stderr",
          "text": [
            "\rEvaluating justifications with Gemini:  39%|███▉      | 59/150 [09:34<14:07,  9.31s/it]"
          ]
        },
        {
          "output_type": "stream",
          "name": "stdout",
          "text": [
            "Problem 58: Decision=YES, Secondary=False Positive (conf: 0.80)\n"
          ]
        },
        {
          "output_type": "stream",
          "name": "stderr",
          "text": [
            "\rEvaluating justifications with Gemini:  40%|████      | 60/150 [09:49<16:21, 10.90s/it]"
          ]
        },
        {
          "output_type": "stream",
          "name": "stdout",
          "text": [
            "Problem 59: Decision=YES, Secondary=False Positive (conf: 0.90)\n"
          ]
        },
        {
          "output_type": "stream",
          "name": "stderr",
          "text": [
            "\rEvaluating justifications with Gemini:  41%|████      | 61/150 [09:58<15:25, 10.40s/it]"
          ]
        },
        {
          "output_type": "stream",
          "name": "stdout",
          "text": [
            "Problem 60: Decision=YES, Secondary=False Positive (conf: 0.95)\n"
          ]
        },
        {
          "output_type": "stream",
          "name": "stderr",
          "text": [
            "WARNING:root:Attempt 1/3 failed to get clear secondary decision for problem 61; got=None\n",
            "Evaluating justifications with Gemini:  41%|████▏     | 62/150 [10:19<19:51, 13.54s/it]"
          ]
        },
        {
          "output_type": "stream",
          "name": "stdout",
          "text": [
            "Problem 61: Decision=YES, Secondary=False Positive (conf: 0.95)\n"
          ]
        },
        {
          "output_type": "stream",
          "name": "stderr",
          "text": [
            "\rEvaluating justifications with Gemini:  42%|████▏     | 63/150 [10:26<16:53, 11.65s/it]"
          ]
        },
        {
          "output_type": "stream",
          "name": "stdout",
          "text": [
            "Problem 62: Decision=YES, Secondary=True Positive (conf: 0.95)\n"
          ]
        },
        {
          "output_type": "stream",
          "name": "stderr",
          "text": [
            "\rEvaluating justifications with Gemini:  43%|████▎     | 64/150 [10:36<15:47, 11.02s/it]"
          ]
        },
        {
          "output_type": "stream",
          "name": "stdout",
          "text": [
            "Problem 63: Decision=NO, Secondary=False Negative (conf: 0.95)\n"
          ]
        },
        {
          "output_type": "stream",
          "name": "stderr",
          "text": [
            "\rEvaluating justifications with Gemini:  43%|████▎     | 65/150 [10:42<13:26,  9.49s/it]"
          ]
        },
        {
          "output_type": "stream",
          "name": "stdout",
          "text": [
            "Problem 64: Decision=YES, Secondary=False Positive (conf: 1.00)\n"
          ]
        },
        {
          "output_type": "stream",
          "name": "stderr",
          "text": [
            "\rEvaluating justifications with Gemini:  44%|████▍     | 66/150 [10:49<12:11,  8.71s/it]"
          ]
        },
        {
          "output_type": "stream",
          "name": "stdout",
          "text": [
            "Problem 65: Decision=YES, Secondary=False Negative (conf: 0.95)\n"
          ]
        },
        {
          "output_type": "stream",
          "name": "stderr",
          "text": [
            "\rEvaluating justifications with Gemini:  45%|████▍     | 67/150 [11:04<14:40, 10.61s/it]"
          ]
        },
        {
          "output_type": "stream",
          "name": "stdout",
          "text": [
            "Problem 66: Decision=YES, Secondary=False Negative (conf: 0.95)\n"
          ]
        },
        {
          "output_type": "stream",
          "name": "stderr",
          "text": [
            "\rEvaluating justifications with Gemini:  45%|████▌     | 68/150 [11:12<13:24,  9.81s/it]"
          ]
        },
        {
          "output_type": "stream",
          "name": "stdout",
          "text": [
            "Problem 67: Decision=NO, Secondary=False Negative (conf: 0.95)\n"
          ]
        },
        {
          "output_type": "stream",
          "name": "stderr",
          "text": [
            "\rEvaluating justifications with Gemini:  46%|████▌     | 69/150 [11:23<13:54, 10.31s/it]"
          ]
        },
        {
          "output_type": "stream",
          "name": "stdout",
          "text": [
            "Problem 68: Decision=YES, Secondary=False Positive (conf: 0.95)\n"
          ]
        },
        {
          "output_type": "stream",
          "name": "stderr",
          "text": [
            "\rEvaluating justifications with Gemini:  47%|████▋     | 70/150 [11:33<13:22, 10.03s/it]"
          ]
        },
        {
          "output_type": "stream",
          "name": "stdout",
          "text": [
            "Problem 69: Decision=YES, Secondary=False Positive (conf: 0.80)\n"
          ]
        },
        {
          "output_type": "stream",
          "name": "stderr",
          "text": [
            "\rEvaluating justifications with Gemini:  47%|████▋     | 71/150 [11:42<12:47,  9.71s/it]"
          ]
        },
        {
          "output_type": "stream",
          "name": "stdout",
          "text": [
            "Problem 70: Decision=NO, Secondary=False Negative (conf: 1.00)\n"
          ]
        },
        {
          "output_type": "stream",
          "name": "stderr",
          "text": [
            "\rEvaluating justifications with Gemini:  48%|████▊     | 72/150 [11:47<11:07,  8.56s/it]"
          ]
        },
        {
          "output_type": "stream",
          "name": "stdout",
          "text": [
            "Problem 71: Decision=YES, Secondary=False Positive (conf: 0.90)\n"
          ]
        },
        {
          "output_type": "stream",
          "name": "stderr",
          "text": [
            "\rEvaluating justifications with Gemini:  49%|████▊     | 73/150 [11:58<11:43,  9.14s/it]"
          ]
        },
        {
          "output_type": "stream",
          "name": "stdout",
          "text": [
            "Problem 72: Decision=YES, Secondary=False Positive (conf: 0.95)\n"
          ]
        },
        {
          "output_type": "stream",
          "name": "stderr",
          "text": [
            "\rEvaluating justifications with Gemini:  49%|████▉     | 74/150 [12:08<11:55,  9.41s/it]"
          ]
        },
        {
          "output_type": "stream",
          "name": "stdout",
          "text": [
            "Problem 73: Decision=YES, Secondary=False Positive (conf: 0.75)\n"
          ]
        },
        {
          "output_type": "stream",
          "name": "stderr",
          "text": [
            "\rEvaluating justifications with Gemini:  50%|█████     | 75/150 [12:18<11:54,  9.53s/it]"
          ]
        },
        {
          "output_type": "stream",
          "name": "stdout",
          "text": [
            "Problem 74: Decision=NO, Secondary=False Negative (conf: 1.00)\n"
          ]
        },
        {
          "output_type": "stream",
          "name": "stderr",
          "text": [
            "\rEvaluating justifications with Gemini:  51%|█████     | 76/150 [12:27<11:37,  9.42s/it]"
          ]
        },
        {
          "output_type": "stream",
          "name": "stdout",
          "text": [
            "Problem 75: Decision=NO, Secondary=False Negative (conf: 1.00)\n"
          ]
        },
        {
          "output_type": "stream",
          "name": "stderr",
          "text": [
            "\rEvaluating justifications with Gemini:  51%|█████▏    | 77/150 [12:35<10:49,  8.90s/it]"
          ]
        },
        {
          "output_type": "stream",
          "name": "stdout",
          "text": [
            "Problem 76: Decision=YES, Secondary=False Negative (conf: 1.00)\n"
          ]
        },
        {
          "output_type": "stream",
          "name": "stderr",
          "text": [
            "\rEvaluating justifications with Gemini:  52%|█████▏    | 78/150 [12:41<09:38,  8.03s/it]"
          ]
        },
        {
          "output_type": "stream",
          "name": "stdout",
          "text": [
            "Problem 77: Decision=YES, Secondary=False Negative (conf: 0.95)\n"
          ]
        },
        {
          "output_type": "stream",
          "name": "stderr",
          "text": [
            "\rEvaluating justifications with Gemini:  53%|█████▎    | 79/150 [12:48<09:05,  7.69s/it]"
          ]
        },
        {
          "output_type": "stream",
          "name": "stdout",
          "text": [
            "Problem 78: Decision=YES, Secondary=False Negative (conf: 0.95)\n"
          ]
        },
        {
          "output_type": "stream",
          "name": "stderr",
          "text": [
            "\rEvaluating justifications with Gemini:  53%|█████▎    | 80/150 [12:57<09:39,  8.28s/it]"
          ]
        },
        {
          "output_type": "stream",
          "name": "stdout",
          "text": [
            "Problem 79: Decision=YES, Secondary=False Positive (conf: 0.95)\n"
          ]
        },
        {
          "output_type": "stream",
          "name": "stderr",
          "text": [
            "\rEvaluating justifications with Gemini:  54%|█████▍    | 81/150 [13:06<09:38,  8.38s/it]"
          ]
        },
        {
          "output_type": "stream",
          "name": "stdout",
          "text": [
            "Problem 80: Decision=NO, Secondary=False Negative (conf: 0.90)\n"
          ]
        },
        {
          "output_type": "stream",
          "name": "stderr",
          "text": [
            "\rEvaluating justifications with Gemini:  55%|█████▍    | 82/150 [13:12<08:36,  7.60s/it]"
          ]
        },
        {
          "output_type": "stream",
          "name": "stdout",
          "text": [
            "Problem 81: Decision=YES, Secondary=False Positive (conf: 0.95)\n"
          ]
        },
        {
          "output_type": "stream",
          "name": "stderr",
          "text": [
            "\rEvaluating justifications with Gemini:  55%|█████▌    | 83/150 [13:31<12:19, 11.04s/it]"
          ]
        },
        {
          "output_type": "stream",
          "name": "stdout",
          "text": [
            "Problem 82: Decision=YES, Secondary=False Positive (conf: 0.95)\n"
          ]
        },
        {
          "output_type": "stream",
          "name": "stderr",
          "text": [
            "\rEvaluating justifications with Gemini:  56%|█████▌    | 84/150 [13:38<11:01, 10.03s/it]"
          ]
        },
        {
          "output_type": "stream",
          "name": "stdout",
          "text": [
            "Problem 83: Decision=YES, Secondary=True Positive (conf: 0.95)\n"
          ]
        },
        {
          "output_type": "stream",
          "name": "stderr",
          "text": [
            "\rEvaluating justifications with Gemini:  57%|█████▋    | 85/150 [13:55<12:53, 11.91s/it]"
          ]
        },
        {
          "output_type": "stream",
          "name": "stdout",
          "text": [
            "Problem 84: Decision=YES, Secondary=False Positive (conf: 0.85)\n"
          ]
        },
        {
          "output_type": "stream",
          "name": "stderr",
          "text": [
            "\rEvaluating justifications with Gemini:  57%|█████▋    | 86/150 [14:03<11:33, 10.84s/it]"
          ]
        },
        {
          "output_type": "stream",
          "name": "stdout",
          "text": [
            "Problem 85: Decision=YES, Secondary=True Positive (conf: 0.95)\n"
          ]
        },
        {
          "output_type": "stream",
          "name": "stderr",
          "text": [
            "\rEvaluating justifications with Gemini:  58%|█████▊    | 87/150 [14:10<10:20,  9.85s/it]"
          ]
        },
        {
          "output_type": "stream",
          "name": "stdout",
          "text": [
            "Problem 86: Decision=YES, Secondary=True Positive (conf: 0.90)\n"
          ]
        },
        {
          "output_type": "stream",
          "name": "stderr",
          "text": [
            "\rEvaluating justifications with Gemini:  59%|█████▊    | 88/150 [14:17<09:11,  8.90s/it]"
          ]
        },
        {
          "output_type": "stream",
          "name": "stdout",
          "text": [
            "Problem 87: Decision=YES, Secondary=False Positive (conf: 0.95)\n"
          ]
        },
        {
          "output_type": "stream",
          "name": "stderr",
          "text": [
            "\rEvaluating justifications with Gemini:  59%|█████▉    | 89/150 [14:27<09:20,  9.19s/it]"
          ]
        },
        {
          "output_type": "stream",
          "name": "stdout",
          "text": [
            "Problem 88: Decision=NO, Secondary=False Negative (conf: 0.95)\n"
          ]
        },
        {
          "output_type": "stream",
          "name": "stderr",
          "text": [
            "\rEvaluating justifications with Gemini:  60%|██████    | 90/150 [14:40<10:11, 10.19s/it]"
          ]
        },
        {
          "output_type": "stream",
          "name": "stdout",
          "text": [
            "Problem 89: Decision=YES, Secondary=False Positive (conf: 0.85)\n"
          ]
        },
        {
          "output_type": "stream",
          "name": "stderr",
          "text": [
            "\rEvaluating justifications with Gemini:  61%|██████    | 91/150 [14:51<10:30, 10.68s/it]"
          ]
        },
        {
          "output_type": "stream",
          "name": "stdout",
          "text": [
            "Problem 90: Decision=YES, Secondary=False Positive (conf: 0.90)\n"
          ]
        },
        {
          "output_type": "stream",
          "name": "stderr",
          "text": [
            "\rEvaluating justifications with Gemini:  61%|██████▏   | 92/150 [15:00<09:44, 10.09s/it]"
          ]
        },
        {
          "output_type": "stream",
          "name": "stdout",
          "text": [
            "Problem 91: Decision=NO, Secondary=False Negative (conf: 0.95)\n"
          ]
        },
        {
          "output_type": "stream",
          "name": "stderr",
          "text": [
            "\rEvaluating justifications with Gemini:  62%|██████▏   | 93/150 [15:09<09:20,  9.83s/it]"
          ]
        },
        {
          "output_type": "stream",
          "name": "stdout",
          "text": [
            "Problem 92: Decision=NO, Secondary=False Negative (conf: 0.90)\n"
          ]
        },
        {
          "output_type": "stream",
          "name": "stderr",
          "text": [
            "\rEvaluating justifications with Gemini:  63%|██████▎   | 94/150 [15:16<08:17,  8.89s/it]"
          ]
        },
        {
          "output_type": "stream",
          "name": "stdout",
          "text": [
            "Problem 93: Decision=YES, Secondary=False Positive (conf: 1.00)\n"
          ]
        },
        {
          "output_type": "stream",
          "name": "stderr",
          "text": [
            "\rEvaluating justifications with Gemini:  63%|██████▎   | 95/150 [15:36<11:06, 12.11s/it]"
          ]
        },
        {
          "output_type": "stream",
          "name": "stdout",
          "text": [
            "Problem 94: Decision=YES, Secondary=False Positive (conf: 0.90)\n"
          ]
        },
        {
          "output_type": "stream",
          "name": "stderr",
          "text": [
            "\rEvaluating justifications with Gemini:  64%|██████▍   | 96/150 [15:45<10:10, 11.31s/it]"
          ]
        },
        {
          "output_type": "stream",
          "name": "stdout",
          "text": [
            "Problem 95: Decision=NO, Secondary=False Negative (conf: 0.95)\n"
          ]
        },
        {
          "output_type": "stream",
          "name": "stderr",
          "text": [
            "\rEvaluating justifications with Gemini:  65%|██████▍   | 97/150 [15:53<09:07, 10.34s/it]"
          ]
        },
        {
          "output_type": "stream",
          "name": "stdout",
          "text": [
            "Problem 96: Decision=YES, Secondary=True Positive (conf: 0.90)\n"
          ]
        },
        {
          "output_type": "stream",
          "name": "stderr",
          "text": [
            "\rEvaluating justifications with Gemini:  65%|██████▌   | 98/150 [16:02<08:30,  9.82s/it]"
          ]
        },
        {
          "output_type": "stream",
          "name": "stdout",
          "text": [
            "Problem 97: Decision=NO, Secondary=False Negative (conf: 0.95)\n"
          ]
        },
        {
          "output_type": "stream",
          "name": "stderr",
          "text": [
            "\rEvaluating justifications with Gemini:  66%|██████▌   | 99/150 [16:10<08:01,  9.43s/it]"
          ]
        },
        {
          "output_type": "stream",
          "name": "stdout",
          "text": [
            "Problem 98: Decision=YES, Secondary=False Positive (conf: 0.70)\n"
          ]
        },
        {
          "output_type": "stream",
          "name": "stderr",
          "text": [
            "\rEvaluating justifications with Gemini:  67%|██████▋   | 100/150 [16:23<08:37, 10.34s/it]"
          ]
        },
        {
          "output_type": "stream",
          "name": "stdout",
          "text": [
            "Problem 99: Decision=YES, Secondary=True Positive (conf: 0.95)\n"
          ]
        },
        {
          "output_type": "stream",
          "name": "stderr",
          "text": [
            "\rEvaluating justifications with Gemini:  67%|██████▋   | 101/150 [16:31<08:02,  9.84s/it]"
          ]
        },
        {
          "output_type": "stream",
          "name": "stdout",
          "text": [
            "Problem 100: Decision=NO, Secondary=False Negative (conf: 0.90)\n"
          ]
        },
        {
          "output_type": "stream",
          "name": "stderr",
          "text": [
            "\rEvaluating justifications with Gemini:  68%|██████▊   | 102/150 [16:49<09:42, 12.14s/it]"
          ]
        },
        {
          "output_type": "stream",
          "name": "stdout",
          "text": [
            "Problem 101: Decision=YES, Secondary=True Positive (conf: 0.95)\n"
          ]
        },
        {
          "output_type": "stream",
          "name": "stderr",
          "text": [
            "\rEvaluating justifications with Gemini:  69%|██████▊   | 103/150 [16:56<08:19, 10.63s/it]"
          ]
        },
        {
          "output_type": "stream",
          "name": "stdout",
          "text": [
            "Problem 102: Decision=YES, Secondary=False Positive (conf: 0.95)\n"
          ]
        },
        {
          "output_type": "stream",
          "name": "stderr",
          "text": [
            "\rEvaluating justifications with Gemini:  69%|██████▉   | 104/150 [17:05<07:42, 10.05s/it]"
          ]
        },
        {
          "output_type": "stream",
          "name": "stdout",
          "text": [
            "Problem 103: Decision=YES, Secondary=True Positive (conf: 0.90)\n"
          ]
        },
        {
          "output_type": "stream",
          "name": "stderr",
          "text": [
            "\rEvaluating justifications with Gemini:  70%|███████   | 105/150 [17:14<07:18,  9.74s/it]"
          ]
        },
        {
          "output_type": "stream",
          "name": "stdout",
          "text": [
            "Problem 104: Decision=YES, Secondary=True Positive (conf: 0.95)\n"
          ]
        },
        {
          "output_type": "stream",
          "name": "stderr",
          "text": [
            "\rEvaluating justifications with Gemini:  71%|███████   | 106/150 [17:26<07:46, 10.61s/it]"
          ]
        },
        {
          "output_type": "stream",
          "name": "stdout",
          "text": [
            "Problem 105: Decision=NO, Secondary=False Negative (conf: 0.90)\n"
          ]
        },
        {
          "output_type": "stream",
          "name": "stderr",
          "text": [
            "\rEvaluating justifications with Gemini:  71%|███████▏  | 107/150 [17:36<07:17, 10.18s/it]"
          ]
        },
        {
          "output_type": "stream",
          "name": "stdout",
          "text": [
            "Problem 106: Decision=YES, Secondary=False Positive (conf: 0.95)\n"
          ]
        },
        {
          "output_type": "stream",
          "name": "stderr",
          "text": [
            "\rEvaluating justifications with Gemini:  72%|███████▏  | 108/150 [17:44<06:49,  9.75s/it]"
          ]
        },
        {
          "output_type": "stream",
          "name": "stdout",
          "text": [
            "Problem 107: Decision=NO, Secondary=False Negative (conf: 0.95)\n"
          ]
        },
        {
          "output_type": "stream",
          "name": "stderr",
          "text": [
            "\rEvaluating justifications with Gemini:  73%|███████▎  | 109/150 [17:54<06:33,  9.61s/it]"
          ]
        },
        {
          "output_type": "stream",
          "name": "stdout",
          "text": [
            "Problem 108: Decision=YES, Secondary=True Positive (conf: 0.95)\n"
          ]
        },
        {
          "output_type": "stream",
          "name": "stderr",
          "text": [
            "\rEvaluating justifications with Gemini:  73%|███████▎  | 110/150 [18:14<08:38, 12.97s/it]"
          ]
        },
        {
          "output_type": "stream",
          "name": "stdout",
          "text": [
            "Problem 109: Decision=YES, Secondary=False Positive (conf: 0.95)\n"
          ]
        },
        {
          "output_type": "stream",
          "name": "stderr",
          "text": [
            "\rEvaluating justifications with Gemini:  74%|███████▍  | 111/150 [18:24<07:50, 12.07s/it]"
          ]
        },
        {
          "output_type": "stream",
          "name": "stdout",
          "text": [
            "Problem 110: Decision=NO, Secondary=False Negative (conf: 0.95)\n"
          ]
        },
        {
          "output_type": "stream",
          "name": "stderr",
          "text": [
            "\rEvaluating justifications with Gemini:  75%|███████▍  | 112/150 [18:42<08:39, 13.68s/it]"
          ]
        },
        {
          "output_type": "stream",
          "name": "stdout",
          "text": [
            "Problem 111: Decision=YES, Secondary=False Positive (conf: 0.90)\n"
          ]
        },
        {
          "output_type": "stream",
          "name": "stderr",
          "text": [
            "\rEvaluating justifications with Gemini:  75%|███████▌  | 113/150 [18:51<07:31, 12.19s/it]"
          ]
        },
        {
          "output_type": "stream",
          "name": "stdout",
          "text": [
            "Problem 112: Decision=YES, Secondary=False Negative (conf: 1.00)\n"
          ]
        },
        {
          "output_type": "stream",
          "name": "stderr",
          "text": [
            "WARNING:root:Attempt 1/3 failed to get clear secondary decision for problem 113; got=None\n",
            "Evaluating justifications with Gemini:  76%|███████▌  | 114/150 [19:04<07:31, 12.55s/it]"
          ]
        },
        {
          "output_type": "stream",
          "name": "stdout",
          "text": [
            "Problem 113: Decision=YES, Secondary=False Positive (conf: 0.90)\n"
          ]
        },
        {
          "output_type": "stream",
          "name": "stderr",
          "text": [
            "\rEvaluating justifications with Gemini:  77%|███████▋  | 115/150 [19:11<06:18, 10.81s/it]"
          ]
        },
        {
          "output_type": "stream",
          "name": "stdout",
          "text": [
            "Problem 114: Decision=YES, Secondary=False Positive (conf: 0.99)\n"
          ]
        },
        {
          "output_type": "stream",
          "name": "stderr",
          "text": [
            "\rEvaluating justifications with Gemini:  77%|███████▋  | 116/150 [19:19<05:45, 10.17s/it]"
          ]
        },
        {
          "output_type": "stream",
          "name": "stdout",
          "text": [
            "Problem 115: Decision=YES, Secondary=False Positive (conf: 0.75)\n"
          ]
        },
        {
          "output_type": "stream",
          "name": "stderr",
          "text": [
            "\rEvaluating justifications with Gemini:  78%|███████▊  | 117/150 [19:35<06:29, 11.82s/it]"
          ]
        },
        {
          "output_type": "stream",
          "name": "stdout",
          "text": [
            "Problem 116: Decision=YES, Secondary=True Positive (conf: 0.95)\n"
          ]
        },
        {
          "output_type": "stream",
          "name": "stderr",
          "text": [
            "\rEvaluating justifications with Gemini:  79%|███████▊  | 118/150 [19:43<05:46, 10.82s/it]"
          ]
        },
        {
          "output_type": "stream",
          "name": "stdout",
          "text": [
            "Problem 117: Decision=YES, Secondary=False Positive (conf: 0.95)\n"
          ]
        },
        {
          "output_type": "stream",
          "name": "stderr",
          "text": [
            "\rEvaluating justifications with Gemini:  79%|███████▉  | 119/150 [19:51<05:00,  9.70s/it]"
          ]
        },
        {
          "output_type": "stream",
          "name": "stdout",
          "text": [
            "Problem 118: Decision=YES, Secondary=False Positive (conf: 0.99)\n"
          ]
        },
        {
          "output_type": "stream",
          "name": "stderr",
          "text": [
            "\rEvaluating justifications with Gemini:  80%|████████  | 120/150 [19:59<04:40,  9.34s/it]"
          ]
        },
        {
          "output_type": "stream",
          "name": "stdout",
          "text": [
            "Problem 119: Decision=NO, Secondary=False Negative (conf: 0.90)\n"
          ]
        },
        {
          "output_type": "stream",
          "name": "stderr",
          "text": [
            "\rEvaluating justifications with Gemini:  81%|████████  | 121/150 [20:08<04:24,  9.11s/it]"
          ]
        },
        {
          "output_type": "stream",
          "name": "stdout",
          "text": [
            "Problem 120: Decision=YES, Secondary=False Positive (conf: 0.90)\n"
          ]
        },
        {
          "output_type": "stream",
          "name": "stderr",
          "text": [
            "\rEvaluating justifications with Gemini:  81%|████████▏ | 122/150 [20:16<04:10,  8.96s/it]"
          ]
        },
        {
          "output_type": "stream",
          "name": "stdout",
          "text": [
            "Problem 121: Decision=YES, Secondary=False Negative (conf: 0.95)\n"
          ]
        },
        {
          "output_type": "stream",
          "name": "stderr",
          "text": [
            "\rEvaluating justifications with Gemini:  82%|████████▏ | 123/150 [20:25<04:04,  9.04s/it]"
          ]
        },
        {
          "output_type": "stream",
          "name": "stdout",
          "text": [
            "Problem 122: Decision=NO, Secondary=False Negative (conf: 0.95)\n"
          ]
        },
        {
          "output_type": "stream",
          "name": "stderr",
          "text": [
            "\rEvaluating justifications with Gemini:  83%|████████▎ | 124/150 [20:36<04:05,  9.43s/it]"
          ]
        },
        {
          "output_type": "stream",
          "name": "stdout",
          "text": [
            "Problem 123: Decision=YES, Secondary=False Positive (conf: 0.95)\n"
          ]
        },
        {
          "output_type": "stream",
          "name": "stderr",
          "text": [
            "\rEvaluating justifications with Gemini:  83%|████████▎ | 125/150 [20:49<04:26, 10.67s/it]"
          ]
        },
        {
          "output_type": "stream",
          "name": "stdout",
          "text": [
            "Problem 124: Decision=YES, Secondary=True Positive (conf: 0.85)\n"
          ]
        },
        {
          "output_type": "stream",
          "name": "stderr",
          "text": [
            "\rEvaluating justifications with Gemini:  84%|████████▍ | 126/150 [20:58<04:00, 10.02s/it]"
          ]
        },
        {
          "output_type": "stream",
          "name": "stdout",
          "text": [
            "Problem 125: Decision=YES, Secondary=True Positive (conf: 0.95)\n"
          ]
        },
        {
          "output_type": "stream",
          "name": "stderr",
          "text": [
            "\rEvaluating justifications with Gemini:  85%|████████▍ | 127/150 [21:11<04:13, 11.03s/it]"
          ]
        },
        {
          "output_type": "stream",
          "name": "stdout",
          "text": [
            "Problem 126: Decision=YES, Secondary=False Positive (conf: 0.95)\n"
          ]
        },
        {
          "output_type": "stream",
          "name": "stderr",
          "text": [
            "\rEvaluating justifications with Gemini:  85%|████████▌ | 128/150 [21:19<03:40, 10.00s/it]"
          ]
        },
        {
          "output_type": "stream",
          "name": "stdout",
          "text": [
            "Problem 127: Decision=YES, Secondary=False Positive (conf: 0.95)\n"
          ]
        },
        {
          "output_type": "stream",
          "name": "stderr",
          "text": [
            "\rEvaluating justifications with Gemini:  86%|████████▌ | 129/150 [21:30<03:35, 10.27s/it]"
          ]
        },
        {
          "output_type": "stream",
          "name": "stdout",
          "text": [
            "Problem 128: Decision=YES, Secondary=True Positive (conf: 0.95)\n"
          ]
        },
        {
          "output_type": "stream",
          "name": "stderr",
          "text": [
            "\rEvaluating justifications with Gemini:  87%|████████▋ | 130/150 [21:38<03:15,  9.79s/it]"
          ]
        },
        {
          "output_type": "stream",
          "name": "stdout",
          "text": [
            "Problem 129: Decision=NO, Secondary=False Negative (conf: 0.90)\n"
          ]
        },
        {
          "output_type": "stream",
          "name": "stderr",
          "text": [
            "\rEvaluating justifications with Gemini:  87%|████████▋ | 131/150 [21:51<03:22, 10.64s/it]"
          ]
        },
        {
          "output_type": "stream",
          "name": "stdout",
          "text": [
            "Problem 130: Decision=YES, Secondary=False Positive (conf: 0.95)\n"
          ]
        },
        {
          "output_type": "stream",
          "name": "stderr",
          "text": [
            "\rEvaluating justifications with Gemini:  88%|████████▊ | 132/150 [21:58<02:53,  9.66s/it]"
          ]
        },
        {
          "output_type": "stream",
          "name": "stdout",
          "text": [
            "Problem 131: Decision=YES, Secondary=False Positive (conf: 1.00)\n"
          ]
        },
        {
          "output_type": "stream",
          "name": "stderr",
          "text": [
            "\rEvaluating justifications with Gemini:  89%|████████▊ | 133/150 [22:07<02:39,  9.36s/it]"
          ]
        },
        {
          "output_type": "stream",
          "name": "stdout",
          "text": [
            "Problem 132: Decision=YES, Secondary=False Positive (conf: 0.70)\n"
          ]
        },
        {
          "output_type": "stream",
          "name": "stderr",
          "text": [
            "\rEvaluating justifications with Gemini:  89%|████████▉ | 134/150 [22:15<02:23,  8.98s/it]"
          ]
        },
        {
          "output_type": "stream",
          "name": "stdout",
          "text": [
            "Problem 133: Decision=YES, Secondary=False Positive (conf: 0.95)\n"
          ]
        },
        {
          "output_type": "stream",
          "name": "stderr",
          "text": [
            "\rEvaluating justifications with Gemini:  90%|█████████ | 135/150 [22:23<02:11,  8.77s/it]"
          ]
        },
        {
          "output_type": "stream",
          "name": "stdout",
          "text": [
            "Problem 134: Decision=YES, Secondary=True Positive (conf: 0.90)\n"
          ]
        },
        {
          "output_type": "stream",
          "name": "stderr",
          "text": [
            "\rEvaluating justifications with Gemini:  91%|█████████ | 136/150 [22:34<02:12,  9.43s/it]"
          ]
        },
        {
          "output_type": "stream",
          "name": "stdout",
          "text": [
            "Problem 135: Decision=YES, Secondary=False Negative\n"
          ]
        },
        {
          "output_type": "stream",
          "name": "stderr",
          "text": [
            "\rEvaluating justifications with Gemini:  91%|█████████▏| 137/150 [22:44<02:02,  9.45s/it]"
          ]
        },
        {
          "output_type": "stream",
          "name": "stdout",
          "text": [
            "Problem 136: Decision=YES, Secondary=False Positive (conf: 0.90)\n"
          ]
        },
        {
          "output_type": "stream",
          "name": "stderr",
          "text": [
            "\rEvaluating justifications with Gemini:  92%|█████████▏| 138/150 [22:52<01:47,  8.95s/it]"
          ]
        },
        {
          "output_type": "stream",
          "name": "stdout",
          "text": [
            "Problem 137: Decision=YES, Secondary=False Negative (conf: 0.98)\n"
          ]
        },
        {
          "output_type": "stream",
          "name": "stderr",
          "text": [
            "\rEvaluating justifications with Gemini:  93%|█████████▎| 139/150 [23:10<02:08, 11.69s/it]"
          ]
        },
        {
          "output_type": "stream",
          "name": "stdout",
          "text": [
            "Problem 138: Decision=YES, Secondary=False Positive (conf: 0.90)\n"
          ]
        },
        {
          "output_type": "stream",
          "name": "stderr",
          "text": [
            "\rEvaluating justifications with Gemini:  93%|█████████▎| 140/150 [23:19<01:47, 10.79s/it]"
          ]
        },
        {
          "output_type": "stream",
          "name": "stdout",
          "text": [
            "Problem 139: Decision=NO, Secondary=False Negative (conf: 0.90)\n"
          ]
        },
        {
          "output_type": "stream",
          "name": "stderr",
          "text": [
            "\rEvaluating justifications with Gemini:  94%|█████████▍| 141/150 [23:27<01:31, 10.15s/it]"
          ]
        },
        {
          "output_type": "stream",
          "name": "stdout",
          "text": [
            "Problem 140: Decision=YES, Secondary=True Positive (conf: 0.95)\n"
          ]
        },
        {
          "output_type": "stream",
          "name": "stderr",
          "text": [
            "\rEvaluating justifications with Gemini:  95%|█████████▍| 142/150 [23:36<01:19,  9.90s/it]"
          ]
        },
        {
          "output_type": "stream",
          "name": "stdout",
          "text": [
            "Problem 141: Decision=YES, Secondary=True Positive (conf: 0.95)\n"
          ]
        },
        {
          "output_type": "stream",
          "name": "stderr",
          "text": [
            "\rEvaluating justifications with Gemini:  95%|█████████▌| 143/150 [23:46<01:07,  9.70s/it]"
          ]
        },
        {
          "output_type": "stream",
          "name": "stdout",
          "text": [
            "Problem 142: Decision=NO, Secondary=False Negative (conf: 0.95)\n"
          ]
        },
        {
          "output_type": "stream",
          "name": "stderr",
          "text": [
            "\rEvaluating justifications with Gemini:  96%|█████████▌| 144/150 [23:51<00:51,  8.50s/it]"
          ]
        },
        {
          "output_type": "stream",
          "name": "stdout",
          "text": [
            "Problem 143: Decision=YES, Secondary=False Positive (conf: 0.90)\n"
          ]
        },
        {
          "output_type": "stream",
          "name": "stderr",
          "text": [
            "\rEvaluating justifications with Gemini:  97%|█████████▋| 145/150 [23:57<00:38,  7.72s/it]"
          ]
        },
        {
          "output_type": "stream",
          "name": "stdout",
          "text": [
            "Problem 144: Decision=YES, Secondary=False Negative (conf: 0.95)\n"
          ]
        },
        {
          "output_type": "stream",
          "name": "stderr",
          "text": [
            "\rEvaluating justifications with Gemini:  97%|█████████▋| 146/150 [24:07<00:32,  8.25s/it]"
          ]
        },
        {
          "output_type": "stream",
          "name": "stdout",
          "text": [
            "Problem 145: Decision=NO, Secondary=False Negative (conf: 0.95)\n"
          ]
        },
        {
          "output_type": "stream",
          "name": "stderr",
          "text": [
            "\rEvaluating justifications with Gemini:  98%|█████████▊| 147/150 [24:16<00:25,  8.52s/it]"
          ]
        },
        {
          "output_type": "stream",
          "name": "stdout",
          "text": [
            "Problem 146: Decision=NO, Secondary=False Negative\n"
          ]
        },
        {
          "output_type": "stream",
          "name": "stderr",
          "text": [
            "\rEvaluating justifications with Gemini:  99%|█████████▊| 148/150 [24:24<00:16,  8.31s/it]"
          ]
        },
        {
          "output_type": "stream",
          "name": "stdout",
          "text": [
            "Problem 147: Decision=YES, Secondary=False Positive (conf: 0.95)\n"
          ]
        },
        {
          "output_type": "stream",
          "name": "stderr",
          "text": [
            "\rEvaluating justifications with Gemini:  99%|█████████▉| 149/150 [24:33<00:08,  8.60s/it]"
          ]
        },
        {
          "output_type": "stream",
          "name": "stdout",
          "text": [
            "Problem 148: Decision=NO, Secondary=False Negative (conf: 0.95)\n"
          ]
        },
        {
          "output_type": "stream",
          "name": "stderr",
          "text": [
            "Evaluating justifications with Gemini: 100%|██████████| 150/150 [24:42<00:00,  9.88s/it]"
          ]
        },
        {
          "output_type": "stream",
          "name": "stdout",
          "text": [
            "Problem 149: Decision=YES, Secondary=False Positive (conf: 0.95)\n",
            "\n",
            "================================================================================\n",
            "JUSTIFICATION EVALUATION COMPLETED!\n",
            "================================================================================\n",
            "Model Used: gemini-2.5-flash-lite\n",
            "Total Problems: 150\n",
            "Successfully Processed: 150\n",
            "\n",
            "PRIMARY ACCURACY (Error Detection - Decision Field):\n",
            "  Ground Truth: All problems should have Decision = YES\n",
            "  Correct Detections (YES): 117/150\n",
            "  Accuracy: 78.00%\n",
            "\n",
            "SECONDARY ACCURACY (Justification Quality - Secondary Decision Field):\n",
            "  True Positives: 30\n",
            "  False Positives: 71\n",
            "  False Negatives: 49\n",
            "  Accuracy (TP rate): 20.00%\n",
            "  Precision: 29.70%\n",
            "  Recall: 37.97%\n",
            "\n",
            "Problems with Confidence: 147 (98.0%)\n",
            "Average Confidence: 0.920\n",
            "Confidence Range: 0.700 - 1.000\n",
            "\n",
            "Results saved to: /content/justification_evaluation_results_Mathstral_Bangla.json\n",
            "================================================================================\n"
          ]
        },
        {
          "output_type": "stream",
          "name": "stderr",
          "text": [
            "\n"
          ]
        }
      ],
      "source": [
        "import json\n",
        "import os\n",
        "import re\n",
        "import time\n",
        "import logging\n",
        "import queue\n",
        "import threading\n",
        "import traceback\n",
        "from tqdm import tqdm\n",
        "from collections import deque\n",
        "from google import genai\n",
        "\n",
        "# Set up logging\n",
        "logging.basicConfig(\n",
        "    level=logging.INFO,\n",
        "    format='%(asctime)s - %(levelname)s - %(message)s',\n",
        "    handlers=[\n",
        "        logging.FileHandler('justification_evaluation.log'),\n",
        "        logging.StreamHandler()\n",
        "    ]\n",
        ")\n",
        "\n",
        "\n",
        "class GeminiTranslationApiManager:\n",
        "    \"\"\"\n",
        "    Manages multiple Gemini API keys with rotation and rate limiting for evaluation tasks.\n",
        "    \"\"\"\n",
        "\n",
        "    def __init__(self, api_keys, calls_per_day=1000, rate_limit_delay=5):\n",
        "        if not api_keys:\n",
        "            raise ValueError(\"api_keys must contain at least one key\")\n",
        "\n",
        "        self.api_keys = deque(api_keys)\n",
        "        self.calls_per_day = calls_per_day\n",
        "        self.rate_limit_delay = rate_limit_delay\n",
        "\n",
        "        self.usage_count = {key: 0 for key in api_keys}\n",
        "        self.current_key = self.api_keys[0]\n",
        "        self.client = genai.Client(api_key=self.current_key)\n",
        "\n",
        "        self.lock = threading.Lock()\n",
        "        self.call_queue = queue.Queue()\n",
        "        self.worker_thread = threading.Thread(target=self._process_queue, name=\"GeminiWorker\")\n",
        "        self.worker_thread.daemon = True\n",
        "        self.worker_thread.start()\n",
        "\n",
        "        logging.info(f\"Gemini API Manager initialized with {len(api_keys)} keys\")\n",
        "\n",
        "    def _rotate_key(self):\n",
        "        \"\"\"Rotate to the next available API key.\"\"\"\n",
        "        with self.lock:\n",
        "            self.api_keys.rotate(1)\n",
        "            self.current_key = self.api_keys[0]\n",
        "            self.client = genai.Client(api_key=self.current_key)\n",
        "            usage = self.usage_count.get(self.current_key, 0)\n",
        "        logging.info(f\"Rotated to new API key (usage: {usage})\")\n",
        "\n",
        "    def _find_available_key(self):\n",
        "        \"\"\"Find an API key that hasn't reached the daily limit.\"\"\"\n",
        "        with self.lock:\n",
        "            if self.usage_count.get(self.current_key, 0) < self.calls_per_day:\n",
        "                return True\n",
        "\n",
        "        initial_key = self.current_key\n",
        "        for _ in range(len(self.api_keys)):\n",
        "            self._rotate_key()\n",
        "            with self.lock:\n",
        "                if self.usage_count.get(self.current_key, 0) < self.calls_per_day:\n",
        "                    return True\n",
        "            if self.current_key == initial_key:\n",
        "                return False\n",
        "        return False\n",
        "\n",
        "    def _process_queue(self):\n",
        "        \"\"\"Process the queue of API calls.\"\"\"\n",
        "        while True:\n",
        "            try:\n",
        "                args, kwargs, result_queue = self.call_queue.get()\n",
        "\n",
        "                if not self._find_available_key():\n",
        "                    err = {\"error\": \"All API keys have reached their daily limit\"}\n",
        "                    result_queue.put(err)\n",
        "                    self.call_queue.task_done()\n",
        "                    time.sleep(10)\n",
        "                    continue\n",
        "\n",
        "                try:\n",
        "                    response = self.client.models.generate_content(*args, **kwargs)\n",
        "                    result_queue.put({\"response\": response})\n",
        "                    with self.lock:\n",
        "                        self.usage_count[self.current_key] += 1\n",
        "\n",
        "                except Exception as api_exc:\n",
        "                    msg = str(api_exc).lower()\n",
        "                    if 'quota' in msg or 'rate limit' in msg:\n",
        "                        with self.lock:\n",
        "                            self.usage_count[self.current_key] = self.calls_per_day\n",
        "                        logging.warning(f\"API key reached quota/rate-limit: {api_exc}\")\n",
        "                    result_queue.put({\"error\": str(api_exc)})\n",
        "\n",
        "                time.sleep(self.rate_limit_delay)\n",
        "                self.call_queue.task_done()\n",
        "\n",
        "            except Exception as e:\n",
        "                logging.error(f\"Queue processing error: {e}\\n{traceback.format_exc()}\")\n",
        "                time.sleep(1)\n",
        "\n",
        "    def generate_content(self, *args, timeout=300, **kwargs):\n",
        "        \"\"\"Make an API call to generate content.\"\"\"\n",
        "        result_queue = queue.Queue()\n",
        "        self.call_queue.put((args, kwargs, result_queue))\n",
        "\n",
        "        try:\n",
        "            result = result_queue.get(timeout=timeout)\n",
        "        except queue.Empty:\n",
        "            raise TimeoutError(\"Timed out waiting for API response\")\n",
        "\n",
        "        if \"error\" in result:\n",
        "            raise Exception(result[\"error\"])\n",
        "        return result[\"response\"]\n",
        "\n",
        "    def get_usage_stats(self):\n",
        "        \"\"\"Get usage statistics for all keys.\"\"\"\n",
        "        with self.lock:\n",
        "            per_key = dict(self.usage_count)\n",
        "        total_used = sum(per_key.values())\n",
        "        total_available = len(self.api_keys) * self.calls_per_day\n",
        "        return {\n",
        "            \"per_key\": per_key,\n",
        "            \"total_used\": total_used,\n",
        "            \"total_available\": total_available,\n",
        "            \"percent_used\": (total_used / total_available) * 100 if total_available > 0 else 0\n",
        "        }\n",
        "\n",
        "\n",
        "class GeminiJustificationEvaluator:\n",
        "    \"\"\"\n",
        "    Gemini evaluator for comparing mathematical error justifications.\n",
        "    Determines if LLM-generated error descriptions match the intended errors.\n",
        "    \"\"\"\n",
        "\n",
        "    THINK_MARKER = \"<<END_THINK>>\"\n",
        "\n",
        "    # Example for few-shot prompting\n",
        "    EXAMPLE_EVALUATION = \"\"\"\n",
        "EXAMPLE 1:\n",
        "Intended Error: \"Incorrect application of the quadratic formula; missed the negative sign in the discriminant calculation\"\n",
        "Erroneous Part: \"The step where discriminant is calculated as b² + 4ac instead of b² - 4ac\"\n",
        "LLM Generated Description: \"The student incorrectly computed the discriminant using b² + 4ac rather than the correct formula b² - 4ac, leading to an incorrect result\"\n",
        "Analysis: The LLM correctly identified the specific error (wrong sign in discriminant), the exact location (discriminant calculation step), and the consequence. This matches both the error type and the erroneous part precisely.\n",
        "<<END_THINK>>\n",
        "{\"secondary_decision\":\"True Positive\", \"confidence\":0.95, \"short_reason\":\"LLM accurately identified discriminant sign error\"}\n",
        "SECONDARY_DECISION: True Positive\n",
        "\n",
        "EXAMPLE 2:\n",
        "Intended Error: \"Logical fallacy: affirming the consequent; claims 'if P then Q' is true, therefore 'if Q then P' must be true\"\n",
        "Erroneous Part: \"Statement 'If a number can be squared to get another number, then it must be rational' - this is a logical fallacy\"\n",
        "LLM Generated Description: \"The solution contains a calculation error in step 3 where the student multiplied instead of dividing\"\n",
        "Analysis: The LLM identified a completely different error (calculation mistake) than the intended error (logical fallacy). The LLM missed the actual reasoning flaw and focused on computational aspects instead.\n",
        "<<END_THINK>>\n",
        "{\"secondary_decision\":\"False Positive\", \"confidence\":0.90, \"short_reason\":\"LLM identified wrong error type - computational vs logical\"}\n",
        "SECONDARY_DECISION: False Positive\n",
        "\n",
        "EXAMPLE 3:\n",
        "Intended Error: \"Overgeneralization without proof; claims all square roots of perfect squares are rational without justification\"\n",
        "Erroneous Part: \"The statement 'Any square root of a perfect square must be rational' lacks proper justification\"\n",
        "LLM Generated Description: \"No errors detected. The solution correctly evaluates √9 = 3 and properly concludes it is rational\"\n",
        "Analysis: The LLM completely failed to detect any error despite the presence of an unjustified overgeneralization. This is a False Negative case.\n",
        "<<END_THINK>>\n",
        "{\"secondary_decision\":\"False Negative\", \"confidence\":0.85, \"short_reason\":\"LLM failed to detect overgeneralization error\"}\n",
        "SECONDARY_DECISION: False Negative\n",
        "\"\"\"\n",
        "\n",
        "    def __init__(self, api_manager, seed=42):\n",
        "        self.api_manager = api_manager\n",
        "        self.seed = seed\n",
        "        self.model_name = \"gemini-2.5-flash-lite\"\n",
        "\n",
        "        logging.info(f\"Gemini justification evaluator initialized with model: {self.model_name}\")\n",
        "        print(f\"Gemini justification evaluator initialized with model: {self.model_name}\")\n",
        "\n",
        "    def generate_response(self, prompt):\n",
        "        \"\"\"\n",
        "        Generate response using Gemini API and split at THINK_MARKER.\n",
        "        Returns: (thinking_text, final_text, full_response_text)\n",
        "        \"\"\"\n",
        "        try:\n",
        "            response = self.api_manager.generate_content(\n",
        "                model=self.model_name,\n",
        "                contents=prompt,\n",
        "                timeout=300\n",
        "            )\n",
        "\n",
        "            # Extract response text\n",
        "            full_response = \"\"\n",
        "            if hasattr(response, 'text'):\n",
        "                full_response = response.text\n",
        "            elif isinstance(response, dict) and 'text' in response:\n",
        "                full_response = response['text']\n",
        "            else:\n",
        "                full_response = str(response)\n",
        "\n",
        "            full_response = full_response.strip()\n",
        "\n",
        "            # Try to find the last occurrence of the THINK_MARKER in the response\n",
        "            marker = self.THINK_MARKER\n",
        "            idx = full_response.rfind(marker)\n",
        "            if idx >= 0:\n",
        "                thinking = full_response[:idx].strip()\n",
        "                final = full_response[idx + len(marker):].strip()\n",
        "                return thinking, final, full_response\n",
        "\n",
        "            # If no marker present, return empty thinking and whole text as final\n",
        "            return \"\", full_response, full_response\n",
        "\n",
        "        except Exception as e:\n",
        "            logging.error(f\"Error generating response with Gemini: {e}\", exc_info=True)\n",
        "            return \"\", f\"Error: {str(e)}\", \"\"\n",
        "\n",
        "\n",
        "def _extract_json_block(text):\n",
        "    \"\"\"\n",
        "    Find the last valid JSON object in text using improved pattern matching.\n",
        "    Returns (json_obj, json_text) or (None, None)\n",
        "    \"\"\"\n",
        "    if not text:\n",
        "        return None, None\n",
        "\n",
        "    # First try: regex pattern for JSON-like structures\n",
        "    json_pattern = r'\\{[^{}]*(?:\\{[^{}]*\\}[^{}]*)*\\}'\n",
        "    matches = re.findall(json_pattern, text)\n",
        "\n",
        "    # Try matches in reverse order (last match first)\n",
        "    for match in reversed(matches):\n",
        "        try:\n",
        "            obj = json.loads(match)\n",
        "            return obj, match\n",
        "        except:\n",
        "            continue\n",
        "\n",
        "    # Fallback: original greedy approach\n",
        "    last_open = text.rfind('{')\n",
        "    if last_open == -1:\n",
        "        return None, None\n",
        "\n",
        "    candidate = text[last_open:]\n",
        "    brace_count = 0\n",
        "\n",
        "    for i, char in enumerate(candidate):\n",
        "        if char == '{':\n",
        "            brace_count += 1\n",
        "        elif char == '}':\n",
        "            brace_count -= 1\n",
        "            if brace_count == 0:\n",
        "                try:\n",
        "                    maybe = candidate[:i+1]\n",
        "                    obj = json.loads(maybe)\n",
        "                    return obj, maybe\n",
        "                except:\n",
        "                    continue\n",
        "\n",
        "    return None, None\n",
        "\n",
        "\n",
        "def extract_secondary_decision_and_confidence(final_text):\n",
        "    \"\"\"\n",
        "    Extract secondary decision, confidence, and short reason from the final_text.\n",
        "    Priority:\n",
        "      1) JSON block with keys 'secondary_decision', 'confidence', 'short_reason'\n",
        "      2) A final line 'SECONDARY_DECISION: True Positive/False Positive/False Negative'\n",
        "      3) Heuristic text matching\n",
        "    Returns: (secondary_decision_str_or_none, confidence_or_none, short_reason_or_none)\n",
        "    \"\"\"\n",
        "    if not final_text:\n",
        "        return None, None, None\n",
        "\n",
        "    valid_decisions = [\"True Positive\", \"False Positive\", \"False Negative\"]\n",
        "\n",
        "    # 1) Try JSON block first\n",
        "    obj, obj_text = _extract_json_block(final_text)\n",
        "    if obj is not None:\n",
        "        decision = None\n",
        "        conf = None\n",
        "        short = None\n",
        "\n",
        "        # Normalize decision key\n",
        "        for key in (\"secondary_decision\", \"Secondary_Decision\", \"SECONDARY_DECISION\", \"decision\"):\n",
        "            if key in obj:\n",
        "                decision_val = str(obj[key]).strip()\n",
        "                # Match any of the valid decisions\n",
        "                for valid in valid_decisions:\n",
        "                    if decision_val.lower() == valid.lower():\n",
        "                        decision = valid\n",
        "                        break\n",
        "                if decision:\n",
        "                    break\n",
        "\n",
        "        # Extract confidence\n",
        "        for key in (\"confidence\", \"conf\", \"confidence_score\"):\n",
        "            if key in obj:\n",
        "                try:\n",
        "                    conf_val = float(obj[key])\n",
        "                    if 0.0 <= conf_val <= 1.0:\n",
        "                        conf = conf_val\n",
        "                    elif 0.0 <= conf_val <= 100.0:\n",
        "                        conf = conf_val / 100.0\n",
        "                except:\n",
        "                    conf = None\n",
        "                break\n",
        "\n",
        "        # Extract short reason\n",
        "        for key in (\"short_reason\", \"reason\", \"short_reasoning\"):\n",
        "            if key in obj:\n",
        "                short = str(obj[key])\n",
        "                break\n",
        "\n",
        "        if decision in valid_decisions:\n",
        "            return decision, conf, short\n",
        "\n",
        "    # 2) Check final lines for SECONDARY_DECISION: [value]\n",
        "    lines = [ln.strip() for ln in final_text.strip().splitlines() if ln.strip()]\n",
        "    if lines:\n",
        "        last_line = lines[-1].strip().rstrip('.')\n",
        "        for valid in valid_decisions:\n",
        "            patterns = [\n",
        "                f\"SECONDARY_DECISION: {valid}\",\n",
        "                f\"SECONDARY DECISION: {valid}\",\n",
        "                f\"SECONDARY_DECISION {valid}\",\n",
        "                valid.upper()\n",
        "            ]\n",
        "            for pattern in patterns:\n",
        "                if last_line.upper() == pattern.upper():\n",
        "                    return valid, None, None\n",
        "\n",
        "    # 3) Heuristic matching in conclusion context\n",
        "    tail = \" \".join(lines[-3:]).upper()\n",
        "    conclusion_indicators = [\"THEREFORE\", \"THUS\", \"CONCLUSION\", \"FINAL\", \"RESULT\", \"DECISION\"]\n",
        "\n",
        "    has_conclusion_context = any(indicator in tail for indicator in conclusion_indicators)\n",
        "\n",
        "    if has_conclusion_context:\n",
        "        for valid in valid_decisions:\n",
        "            if valid.upper() in tail:\n",
        "                return valid, None, None\n",
        "\n",
        "    return None, None, None\n",
        "\n",
        "\n",
        "def evaluate_justification_with_gemini(gemini_evaluator, problem_data, problem_index):\n",
        "    \"\"\"\n",
        "    Evaluate if LLM-generated error description matches the intended error.\n",
        "    Returns a dict with thinking, final_text, secondary_decision, confidence, short_reason\n",
        "    \"\"\"\n",
        "    try:\n",
        "        decision = problem_data.get('Decision', '')\n",
        "        llm_error_desc = problem_data.get('llm_generated_error_desc', '')\n",
        "        error_description = problem_data.get('error_description', '')\n",
        "        erroneous_part = problem_data.get('erroneous_part', '')\n",
        "        wrong_solution = problem_data.get('Wrong_Solution_Version_3', '')\n",
        "        llm_no_error = problem_data.get('llm_no_error_justification', '')\n",
        "\n",
        "        # Handle Decision = \"NO\" case\n",
        "        if decision.upper() == \"NO\":\n",
        "            # Still analyze why LLM failed, but decision is predetermined\n",
        "            prompt = f\"\"\"You are an expert in evaluating mathematical error detection systems.\n",
        "\n",
        "The LLM was tasked with identifying errors in a mathematical solution, but it FAILED to detect any errors (Decision: NO).\n",
        "\n",
        "However, there WERE intentional errors present in the solution:\n",
        "\n",
        "INTENDED ERROR DESCRIPTION:\n",
        "{error_description}\n",
        "\n",
        "SPECIFIC ERRONEOUS PART:\n",
        "{erroneous_part}\n",
        "\n",
        "WRONG SOLUTION (with errors):\n",
        "{wrong_solution}\n",
        "\n",
        "LLM'S RESPONSE (claiming no errors):\n",
        "{llm_no_error if llm_no_error else \"The LLM stated there were no errors.\"}\n",
        "\n",
        "TASK:\n",
        "Analyze WHY the LLM failed to detect these errors. Consider:\n",
        "1) Did the error require advanced reasoning the LLM lacks?\n",
        "2) Was the error subtle or well-disguised?\n",
        "3) Did the LLM focus on surface-level correctness?\n",
        "4) What specific detection capability was missing?\n",
        "\n",
        "Provide your analysis, then output:\n",
        "<<END_THINK>>\n",
        "{{\"secondary_decision\":\"False Negative\", \"confidence\":0.0-1.0, \"short_reason\":\"brief explanation of failure\"}}\n",
        "SECONDARY_DECISION: False Negative\n",
        "\"\"\"\n",
        "\n",
        "        else:  # Decision = \"YES\"\n",
        "            prompt = f\"\"\"You are an expert in evaluating mathematical error detection systems. Your task is to determine if an LLM correctly identified the intended errors in a mathematical solution.\n",
        "\n",
        "EVALUATION CRITERIA:\n",
        "You must check if the LLM-generated error description matches the intended error on ALL these dimensions:\n",
        "\n",
        "1) **ERROR TYPE MATCH**: Does the LLM identify the same category of error?\n",
        "   - Logical fallacies (affirming consequent, circular reasoning, etc.)\n",
        "   - Overgeneralization without proof\n",
        "   - Incorrect rule application\n",
        "   - Step omissions\n",
        "   - Faulty causal reasoning\n",
        "   - Calculation errors\n",
        "   - Conceptual misunderstandings\n",
        "\n",
        "2) **SPECIFIC LOCATION MATCH**: Does the LLM pinpoint the same erroneous step/statement?\n",
        "\n",
        "3) **REASONING MATCH**: Does the LLM explain WHY it's wrong in a similar way?\n",
        "\n",
        "4) **CONSEQUENCE AWARENESS**: Does the LLM understand the impact of the error?\n",
        "\n",
        "{GeminiJustificationEvaluator.EXAMPLE_EVALUATION}\n",
        "\n",
        "CLASSIFICATION RULES:\n",
        "- **True Positive**: LLM correctly identifies the error type, location, and reasoning (matches on all key dimensions)\n",
        "- **False Positive**: LLM detects an error but identifies WRONG error type/location, or misunderstands the nature of the error\n",
        "\n",
        "Now evaluate the following case:\n",
        "\n",
        "INTENDED ERROR DESCRIPTION (what was deliberately introduced):\n",
        "{error_description}\n",
        "\n",
        "SPECIFIC ERRONEOUS PART (the exact problematic component):\n",
        "{erroneous_part}\n",
        "\n",
        "WRONG SOLUTION (containing the errors):\n",
        "{wrong_solution}\n",
        "\n",
        "LLM-GENERATED ERROR DESCRIPTION (what the LLM identified):\n",
        "{llm_error_desc}\n",
        "\n",
        "EVALUATION PROCESS:\n",
        "Step 1: Extract the key error type(s) from the intended error description\n",
        "Step 2: Extract the key error type(s) from the LLM-generated description\n",
        "Step 3: Compare if they match (same error category)\n",
        "Step 4: Check if the LLM identified the correct location/step\n",
        "Step 5: Assess if the reasoning for why it's wrong aligns\n",
        "Step 6: Make final classification with confidence\n",
        "\n",
        "OUTPUT REQUIREMENTS:\n",
        "1) Provide detailed step-by-step analysis\n",
        "2) Insert the thinking marker:\n",
        "{GeminiJustificationEvaluator.THINK_MARKER}\n",
        "3) Provide JSON block:\n",
        "   {{\"secondary_decision\":\"True Positive\" or \"False Positive\", \"confidence\":0.0-1.0, \"short_reason\":\"...\"}}\n",
        "4) End with:\n",
        "   SECONDARY_DECISION: True Positive\n",
        "   OR\n",
        "   SECONDARY_DECISION: False Positive\n",
        "\"\"\"\n",
        "\n",
        "        thinking, final_text, full = gemini_evaluator.generate_response(prompt)\n",
        "\n",
        "        secondary_decision, confidence, short_reason = extract_secondary_decision_and_confidence(final_text)\n",
        "\n",
        "        return {\n",
        "            'thinking': thinking,\n",
        "            'final_text': final_text,\n",
        "            'full_decoded': full,\n",
        "            'secondary_decision': secondary_decision,\n",
        "            'confidence': confidence,\n",
        "            'short_reason': short_reason,\n",
        "        }\n",
        "\n",
        "    except Exception as e:\n",
        "        logging.error(f\"Error evaluating justification for problem {problem_index}: {e}\", exc_info=True)\n",
        "        return {\n",
        "            'thinking': '',\n",
        "            'final_text': f'Error occurred during evaluation: {str(e)}',\n",
        "            'full_decoded': '',\n",
        "            'secondary_decision': None,\n",
        "            'confidence': None,\n",
        "            'short_reason': None,\n",
        "        }\n",
        "\n",
        "\n",
        "def validate_and_retry_evaluation(gemini_evaluator, problem_data, problem_index, max_retries=3):\n",
        "    \"\"\"\n",
        "    Retry loop that attempts to get a clear secondary decision.\n",
        "    Returns (thinking, final_text, secondary_decision, confidence, short_reason)\n",
        "    \"\"\"\n",
        "    last_result = None\n",
        "    valid_decisions = [\"True Positive\", \"False Positive\", \"False Negative\"]\n",
        "\n",
        "    for attempt in range(1, max_retries + 1):\n",
        "        result = evaluate_justification_with_gemini(\n",
        "            gemini_evaluator,\n",
        "            problem_data,\n",
        "            problem_index\n",
        "        )\n",
        "\n",
        "        secondary_decision = result['secondary_decision']\n",
        "        thinking = result['thinking']\n",
        "        final_text = result['final_text']\n",
        "        confidence = result.get('confidence')\n",
        "        short_reason = result.get('short_reason')\n",
        "\n",
        "        last_result = result\n",
        "\n",
        "        # Success condition: we got a valid secondary decision\n",
        "        if secondary_decision in valid_decisions:\n",
        "            if confidence is not None:\n",
        "                logging.info(f\"Problem {problem_index}: {secondary_decision} (conf: {confidence:.2f})\")\n",
        "            return thinking, final_text, secondary_decision, confidence, short_reason\n",
        "\n",
        "        logging.warning(f\"Attempt {attempt}/{max_retries} failed to get clear secondary decision for problem {problem_index}; got={secondary_decision}\")\n",
        "\n",
        "        if attempt < max_retries:\n",
        "            time.sleep(0.1)\n",
        "\n",
        "    # If all attempts fail, use conservative default based on original Decision\n",
        "    decision = problem_data.get('Decision', '').upper()\n",
        "    if decision == \"NO\":\n",
        "        default_secondary = \"False Negative\"\n",
        "    else:\n",
        "        default_secondary = \"False Positive\"  # Conservative: assume mismatch if unclear\n",
        "\n",
        "    logging.error(f\"All {max_retries} attempts failed for problem {problem_index}; defaulting to {default_secondary}\")\n",
        "\n",
        "    if last_result is None:\n",
        "        return '', 'All attempts failed - no output', default_secondary, None, 'Evaluation failed'\n",
        "\n",
        "    return (\n",
        "        last_result['thinking'],\n",
        "        last_result['final_text'],\n",
        "        default_secondary,\n",
        "        last_result.get('confidence'),\n",
        "        last_result.get('short_reason') or 'Failed to get clear decision'\n",
        "    )\n",
        "\n",
        "\n",
        "def save_json_atomic(obj, path):\n",
        "    \"\"\"Save JSON file atomically to prevent corruption.\"\"\"\n",
        "    tmp = path + '.tmp'\n",
        "    with open(tmp, 'w', encoding='utf-8') as f:\n",
        "        json.dump(obj, f, indent=2, ensure_ascii=False)\n",
        "    os.replace(tmp, path)\n",
        "\n",
        "\n",
        "def calculate_confidence_stats(evaluation_results):\n",
        "    \"\"\"Calculate statistics for confidence scores.\"\"\"\n",
        "    confidences = [r.get('gemini_evaluation', {}).get('confidence')\n",
        "                   for r in evaluation_results\n",
        "                   if r.get('gemini_evaluation', {}).get('confidence') is not None]\n",
        "    if not confidences:\n",
        "        return {\"count\": 0}\n",
        "\n",
        "    return {\n",
        "        \"count\": len(confidences),\n",
        "        \"mean\": sum(confidences) / len(confidences),\n",
        "        \"min\": min(confidences),\n",
        "        \"max\": max(confidences),\n",
        "        \"median\": sorted(confidences)[len(confidences) // 2]\n",
        "    }\n",
        "\n",
        "\n",
        "def main():\n",
        "    \"\"\"Main function to execute the justification evaluation process.\"\"\"\n",
        "\n",
        "    # Configuration\n",
        "    JSON_FILE_PATH = '/content/Perturbation_identification_Mathstral_Bangla_150.json'\n",
        "    OUTPUT_FILE_PATH = '/content/justification_evaluation_results_Mathstral_Bangla.json'\n",
        "\n",
        "    # Judge generation settings\n",
        "    MAX_RETRIES = 3\n",
        "\n",
        "    # Load API keys\n",
        "    try:\n",
        "        with open('/content/part_3_api_key.txt', 'r') as fh:\n",
        "            keys = fh.read().strip()\n",
        "\n",
        "        if keys:\n",
        "            os.environ['GEMINI_API_KEYS'] = keys\n",
        "            logging.info(\"Loaded API keys successfully\")\n",
        "\n",
        "        api_keys = None\n",
        "        if 'keys' in locals() and keys:\n",
        "            api_keys = [k.strip() for k in keys.split(',') if k.strip()]\n",
        "\n",
        "        if not api_keys:\n",
        "            env_val = os.environ.get('GEMINI_API_KEYS', '').strip()\n",
        "            if env_val:\n",
        "                api_keys = [k.strip() for k in env_val.split(',') if k.strip()]\n",
        "\n",
        "        if not api_keys:\n",
        "            raise ValueError(\"No API keys found\")\n",
        "\n",
        "    except Exception as e:\n",
        "        logging.error(f\"Failed to load API keys: {e}\")\n",
        "        print(f\"Error loading API keys: {e}\")\n",
        "        return\n",
        "\n",
        "    # Initialize API manager\n",
        "    api_manager = GeminiTranslationApiManager(\n",
        "        api_keys=api_keys,\n",
        "        calls_per_day=1000,\n",
        "        rate_limit_delay=5\n",
        "    )\n",
        "\n",
        "    # Initialize evaluator\n",
        "    gemini_evaluator = GeminiJustificationEvaluator(\n",
        "        api_manager=api_manager,\n",
        "        seed=42\n",
        "    )\n",
        "\n",
        "    # Load input data\n",
        "    try:\n",
        "        with open(JSON_FILE_PATH, 'r', encoding='utf-8') as f:\n",
        "            json_data = json.load(f)\n",
        "        logging.info(f\"Loaded {len(json_data)} problems from JSON file\")\n",
        "        print(f\"Loaded {len(json_data)} problems from JSON file\")\n",
        "    except Exception as e:\n",
        "        logging.error(f\"Failed to load JSON input: {e}\")\n",
        "        print(f\"Error loading JSON: {e}\")\n",
        "        return\n",
        "\n",
        "    evaluation_results = []\n",
        "    total_problems = len(json_data)\n",
        "\n",
        "    # Counters for Primary Accuracy (Decision field)\n",
        "    primary_correct = 0  # Decision = \"YES\"\n",
        "    primary_total = 0\n",
        "\n",
        "    # Counters for Secondary Accuracy (Secondary Decision field)\n",
        "    true_positives = 0\n",
        "    false_positives = 0\n",
        "    false_negatives = 0\n",
        "    secondary_total = 0\n",
        "\n",
        "    problems_with_confidence = 0\n",
        "\n",
        "    # Process each problem\n",
        "    for idx, problem in enumerate(tqdm(json_data, desc='Evaluating justifications with Gemini')):\n",
        "        try:\n",
        "            problem_index = problem.get('problem_index', idx)\n",
        "            decision = problem.get('Decision', '')\n",
        "\n",
        "            # Calculate Primary Accuracy\n",
        "            primary_total += 1\n",
        "            if decision.upper() == \"YES\":\n",
        "                primary_correct += 1\n",
        "\n",
        "            # Perform Gemini evaluation\n",
        "            thinking, final_text, secondary_decision, confidence, short_reason = validate_and_retry_evaluation(\n",
        "                gemini_evaluator,\n",
        "                problem,\n",
        "                problem_index,\n",
        "                max_retries=MAX_RETRIES\n",
        "            )\n",
        "\n",
        "            # Prepare result entry with all original fields plus new evaluation fields\n",
        "            result_entry = dict(problem)  # Copy all original fields\n",
        "            result_entry['Secondary_Decision'] = secondary_decision\n",
        "            result_entry['gemini_evaluation'] = {\n",
        "                'secondary_decision': secondary_decision,\n",
        "                'confidence': confidence,\n",
        "                'short_reason': short_reason,\n",
        "                'thinking': thinking,\n",
        "                'final_text': final_text,\n",
        "            }\n",
        "\n",
        "            evaluation_results.append(result_entry)\n",
        "\n",
        "            # Calculate Secondary Accuracy\n",
        "            secondary_total += 1\n",
        "            if secondary_decision == \"True Positive\":\n",
        "                true_positives += 1\n",
        "            elif secondary_decision == \"False Positive\":\n",
        "                false_positives += 1\n",
        "            elif secondary_decision == \"False Negative\":\n",
        "                false_negatives += 1\n",
        "\n",
        "            if confidence is not None:\n",
        "                problems_with_confidence += 1\n",
        "\n",
        "            # Progress logging\n",
        "            print(f\"Problem {problem_index}: Decision={decision.upper()}, Secondary={secondary_decision}\" +\n",
        "                  (f\" (conf: {confidence:.2f})\" if confidence else \"\"))\n",
        "            logging.info(f\"Problem {problem_index}: Decision={decision}, Secondary={secondary_decision}\" +\n",
        "                        (f\" (confidence: {confidence})\" if confidence else \"\"))\n",
        "\n",
        "            # Intermediate saves and progress reports\n",
        "            if secondary_total % 50 == 0:\n",
        "                primary_accuracy = (primary_correct / primary_total) * 100 if primary_total else 0\n",
        "                secondary_accuracy = (true_positives / secondary_total) * 100 if secondary_total else 0\n",
        "                conf_rate = (problems_with_confidence / secondary_total) * 100\n",
        "\n",
        "                logging.info(f\"Progress: {secondary_total}/{total_problems}\")\n",
        "                logging.info(f\"Primary Accuracy (Decision=YES): {primary_correct}/{primary_total} ({primary_accuracy:.2f}%)\")\n",
        "                logging.info(f\"Secondary Accuracy (True Positive): {true_positives}/{secondary_total} ({secondary_accuracy:.2f}%)\")\n",
        "                logging.info(f\"TP: {true_positives}, FP: {false_positives}, FN: {false_negatives}\")\n",
        "                logging.info(f\"Confidence rate: {problems_with_confidence}/{secondary_total} ({conf_rate:.1f}%)\")\n",
        "\n",
        "                # Save intermediate results\n",
        "                intermediate_file = OUTPUT_FILE_PATH.replace('.json', f'_checkpoint_{secondary_total}.json')\n",
        "                save_json_atomic(evaluation_results, intermediate_file)\n",
        "\n",
        "        except Exception as e:\n",
        "            logging.error(f\"Error processing problem {problem.get('problem_index', idx)}: {e}\")\n",
        "            # Add entry with error information\n",
        "            result_entry = dict(problem)\n",
        "            result_entry['Secondary_Decision'] = 'False Positive'  # Conservative default\n",
        "            result_entry['gemini_evaluation'] = {\n",
        "                'secondary_decision': 'False Positive',\n",
        "                'confidence': None,\n",
        "                'short_reason': f'Error during evaluation: {str(e)}',\n",
        "                'thinking': '',\n",
        "                'final_text': f'Error during evaluation: {str(e)}',\n",
        "            }\n",
        "            evaluation_results.append(result_entry)\n",
        "            false_positives += 1\n",
        "            secondary_total += 1\n",
        "            continue\n",
        "\n",
        "    # Calculate final statistics\n",
        "    primary_accuracy = (primary_correct / primary_total) * 100 if primary_total else 0\n",
        "    secondary_accuracy = (true_positives / secondary_total) * 100 if secondary_total else 0\n",
        "    confidence_rate = (problems_with_confidence / secondary_total) * 100 if secondary_total else 0\n",
        "    confidence_stats = calculate_confidence_stats(evaluation_results)\n",
        "\n",
        "    # Prepare final results\n",
        "    final_results = {\n",
        "        'evaluation_metadata': {\n",
        "            'model_used': gemini_evaluator.model_name,\n",
        "            'total_problems': total_problems,\n",
        "            'successfully_processed': secondary_total,\n",
        "\n",
        "            # Primary Accuracy (Decision field)\n",
        "            'primary_accuracy': {\n",
        "                'description': 'Accuracy based on Decision field (YES/NO error detection)',\n",
        "                'ground_truth': 'YES (all problems have intentional errors)',\n",
        "                'correct_detections': primary_correct,\n",
        "                'total_problems': primary_total,\n",
        "                'accuracy_percentage': round(primary_accuracy, 2)\n",
        "            },\n",
        "\n",
        "            # Secondary Accuracy (Secondary Decision field)\n",
        "            'secondary_accuracy': {\n",
        "                'description': 'Accuracy based on Secondary Decision field (justification quality)',\n",
        "                'true_positives': true_positives,\n",
        "                'false_positives': false_positives,\n",
        "                'false_negatives': false_negatives,\n",
        "                'total_evaluated': secondary_total,\n",
        "                'accuracy_percentage': round(secondary_accuracy, 2),\n",
        "                'precision': round((true_positives / (true_positives + false_positives) * 100) if (true_positives + false_positives) > 0 else 0, 2),\n",
        "                'recall': round((true_positives / (true_positives + false_negatives) * 100) if (true_positives + false_negatives) > 0 else 0, 2)\n",
        "            },\n",
        "\n",
        "            'problems_with_confidence': problems_with_confidence,\n",
        "            'confidence_rate_percentage': round(confidence_rate, 2),\n",
        "            'confidence_statistics': confidence_stats,\n",
        "            'evaluation_timestamp': time.strftime('%Y-%m-%d %H:%M:%S'),\n",
        "            'settings': {\n",
        "                'max_retries': MAX_RETRIES,\n",
        "                'seed': gemini_evaluator.seed,\n",
        "            }\n",
        "        },\n",
        "        'problem_evaluations': evaluation_results,\n",
        "    }\n",
        "\n",
        "    # Save final results\n",
        "    save_json_atomic(final_results, OUTPUT_FILE_PATH)\n",
        "\n",
        "    # Print summary\n",
        "    print('\\n' + '='*80)\n",
        "    print('JUSTIFICATION EVALUATION COMPLETED!')\n",
        "    print('='*80)\n",
        "    print(f\"Model Used: {gemini_evaluator.model_name}\")\n",
        "    print(f\"Total Problems: {total_problems}\")\n",
        "    print(f\"Successfully Processed: {secondary_total}\")\n",
        "    print()\n",
        "    print(\"PRIMARY ACCURACY (Error Detection - Decision Field):\")\n",
        "    print(f\"  Ground Truth: All problems should have Decision = YES\")\n",
        "    print(f\"  Correct Detections (YES): {primary_correct}/{primary_total}\")\n",
        "    print(f\"  Accuracy: {primary_accuracy:.2f}%\")\n",
        "    print()\n",
        "    print(\"SECONDARY ACCURACY (Justification Quality - Secondary Decision Field):\")\n",
        "    print(f\"  True Positives: {true_positives}\")\n",
        "    print(f\"  False Positives: {false_positives}\")\n",
        "    print(f\"  False Negatives: {false_negatives}\")\n",
        "    print(f\"  Accuracy (TP rate): {secondary_accuracy:.2f}%\")\n",
        "    if (true_positives + false_positives) > 0:\n",
        "        precision = (true_positives / (true_positives + false_positives)) * 100\n",
        "        print(f\"  Precision: {precision:.2f}%\")\n",
        "    if (true_positives + false_negatives) > 0:\n",
        "        recall = (true_positives / (true_positives + false_negatives)) * 100\n",
        "        print(f\"  Recall: {recall:.2f}%\")\n",
        "    print()\n",
        "    print(f\"Problems with Confidence: {problems_with_confidence} ({confidence_rate:.1f}%)\")\n",
        "    if confidence_stats.get('count', 0) > 0:\n",
        "        print(f\"Average Confidence: {confidence_stats['mean']:.3f}\")\n",
        "        print(f\"Confidence Range: {confidence_stats['min']:.3f} - {confidence_stats['max']:.3f}\")\n",
        "    print(f\"\\nResults saved to: {OUTPUT_FILE_PATH}\")\n",
        "    print('='*80)\n",
        "\n",
        "    # Final logging\n",
        "    logging.info('Justification evaluation with Gemini completed!')\n",
        "    logging.info(f\"Primary Accuracy: {primary_correct}/{primary_total} ({primary_accuracy:.2f}%)\")\n",
        "    logging.info(f\"Secondary Accuracy: TP={true_positives}, FP={false_positives}, FN={false_negatives} ({secondary_accuracy:.2f}%)\")\n",
        "    logging.info(f\"Confidence provided for {problems_with_confidence}/{secondary_total} problems ({confidence_rate:.1f}%)\")\n",
        "    logging.info(f\"Results saved to: {OUTPUT_FILE_PATH}\")\n",
        "\n",
        "\n",
        "if __name__ == '__main__':\n",
        "    main()"
      ]
    }
  ]
}