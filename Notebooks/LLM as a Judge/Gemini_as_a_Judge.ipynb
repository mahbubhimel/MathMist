{
  "nbformat": 4,
  "nbformat_minor": 0,
  "metadata": {
    "colab": {
      "provenance": []
    },
    "kernelspec": {
      "name": "python3",
      "display_name": "Python 3"
    },
    "language_info": {
      "name": "python"
    }
  },
  "cells": [
    {
      "cell_type": "code",
      "execution_count": null,
      "metadata": {
        "colab": {
          "base_uri": "https://localhost:8080/"
        },
        "id": "S_Xu9fHQQEBO",
        "outputId": "eb6b07a2-35ad-48b0-f91c-e10f993e84ca"
      },
      "outputs": [
        {
          "output_type": "stream",
          "name": "stdout",
          "text": [
            "Gemini evaluator initialized with model: gemini-2.5-flash-lite\n",
            "Loaded 150 problems from JSON file\n"
          ]
        },
        {
          "output_type": "stream",
          "name": "stderr",
          "text": [
            "Evaluating answers with Gemini:   1%|          | 1/150 [00:00<02:14,  1.11it/s]"
          ]
        },
        {
          "output_type": "stream",
          "name": "stdout",
          "text": [
            "Problem 0: NO (conf: 1.00)\n"
          ]
        },
        {
          "output_type": "stream",
          "name": "stderr",
          "text": [
            "\rEvaluating answers with Gemini:   1%|▏         | 2/150 [00:07<10:43,  4.35s/it]"
          ]
        },
        {
          "output_type": "stream",
          "name": "stdout",
          "text": [
            "Problem 1: NO (conf: 1.00)\n"
          ]
        },
        {
          "output_type": "stream",
          "name": "stderr",
          "text": [
            "\rEvaluating answers with Gemini:   2%|▏         | 3/150 [00:13<12:28,  5.09s/it]"
          ]
        },
        {
          "output_type": "stream",
          "name": "stdout",
          "text": [
            "Problem 2: NO (conf: 1.00)\n"
          ]
        },
        {
          "output_type": "stream",
          "name": "stderr",
          "text": [
            "\rEvaluating answers with Gemini:   3%|▎         | 4/150 [00:20<14:01,  5.76s/it]"
          ]
        },
        {
          "output_type": "stream",
          "name": "stdout",
          "text": [
            "Problem 3: NO (conf: 1.00)\n"
          ]
        },
        {
          "output_type": "stream",
          "name": "stderr",
          "text": [
            "\rEvaluating answers with Gemini:   3%|▎         | 5/150 [00:26<14:10,  5.87s/it]"
          ]
        },
        {
          "output_type": "stream",
          "name": "stdout",
          "text": [
            "Problem 4: YES\n"
          ]
        },
        {
          "output_type": "stream",
          "name": "stderr",
          "text": [
            "\rEvaluating answers with Gemini:   4%|▍         | 6/150 [00:32<14:15,  5.94s/it]"
          ]
        },
        {
          "output_type": "stream",
          "name": "stdout",
          "text": [
            "Problem 5: NO (conf: 1.00)\n"
          ]
        },
        {
          "output_type": "stream",
          "name": "stderr",
          "text": [
            "\rEvaluating answers with Gemini:   5%|▍         | 7/150 [00:38<14:19,  6.01s/it]"
          ]
        },
        {
          "output_type": "stream",
          "name": "stdout",
          "text": [
            "Problem 6: NO (conf: 1.00)\n"
          ]
        },
        {
          "output_type": "stream",
          "name": "stderr",
          "text": [
            "\rEvaluating answers with Gemini:   5%|▌         | 8/150 [00:44<14:16,  6.03s/it]"
          ]
        },
        {
          "output_type": "stream",
          "name": "stdout",
          "text": [
            "Problem 7: NO (conf: 1.00)\n"
          ]
        },
        {
          "output_type": "stream",
          "name": "stderr",
          "text": [
            "\rEvaluating answers with Gemini:   6%|▌         | 9/150 [00:50<14:09,  6.03s/it]"
          ]
        },
        {
          "output_type": "stream",
          "name": "stdout",
          "text": [
            "Problem 8: NO (conf: 1.00)\n"
          ]
        },
        {
          "output_type": "stream",
          "name": "stderr",
          "text": [
            "\rEvaluating answers with Gemini:   7%|▋         | 10/150 [00:56<13:53,  5.95s/it]"
          ]
        },
        {
          "output_type": "stream",
          "name": "stdout",
          "text": [
            "Problem 9: NO (conf: 1.00)\n"
          ]
        },
        {
          "output_type": "stream",
          "name": "stderr",
          "text": [
            "\rEvaluating answers with Gemini:   7%|▋         | 11/150 [01:02<13:39,  5.90s/it]"
          ]
        },
        {
          "output_type": "stream",
          "name": "stdout",
          "text": [
            "Problem 10: NO (conf: 1.00)\n"
          ]
        },
        {
          "output_type": "stream",
          "name": "stderr",
          "text": [
            "\rEvaluating answers with Gemini:   8%|▊         | 12/150 [01:08<13:46,  5.99s/it]"
          ]
        },
        {
          "output_type": "stream",
          "name": "stdout",
          "text": [
            "Problem 11: YES (conf: 1.00)\n"
          ]
        },
        {
          "output_type": "stream",
          "name": "stderr",
          "text": [
            "\rEvaluating answers with Gemini:   9%|▊         | 13/150 [01:14<13:49,  6.05s/it]"
          ]
        },
        {
          "output_type": "stream",
          "name": "stdout",
          "text": [
            "Problem 12: YES (conf: 1.00)\n"
          ]
        },
        {
          "output_type": "stream",
          "name": "stderr",
          "text": [
            "\rEvaluating answers with Gemini:   9%|▉         | 14/150 [01:20<13:50,  6.10s/it]"
          ]
        },
        {
          "output_type": "stream",
          "name": "stdout",
          "text": [
            "Problem 13: NO (conf: 1.00)\n"
          ]
        },
        {
          "output_type": "stream",
          "name": "stderr",
          "text": [
            "\rEvaluating answers with Gemini:  10%|█         | 15/150 [01:26<13:37,  6.06s/it]"
          ]
        },
        {
          "output_type": "stream",
          "name": "stdout",
          "text": [
            "Problem 14: NO (conf: 0.95)\n"
          ]
        },
        {
          "output_type": "stream",
          "name": "stderr",
          "text": [
            "\rEvaluating answers with Gemini:  11%|█         | 16/150 [01:33<13:59,  6.26s/it]"
          ]
        },
        {
          "output_type": "stream",
          "name": "stdout",
          "text": [
            "Problem 15: NO (conf: 1.00)\n"
          ]
        },
        {
          "output_type": "stream",
          "name": "stderr",
          "text": [
            "\rEvaluating answers with Gemini:  11%|█▏        | 17/150 [01:39<13:44,  6.20s/it]"
          ]
        },
        {
          "output_type": "stream",
          "name": "stdout",
          "text": [
            "Problem 16: NO (conf: 1.00)\n"
          ]
        },
        {
          "output_type": "stream",
          "name": "stderr",
          "text": [
            "\rEvaluating answers with Gemini:  12%|█▏        | 18/150 [01:46<13:55,  6.33s/it]"
          ]
        },
        {
          "output_type": "stream",
          "name": "stdout",
          "text": [
            "Problem 17: NO (conf: 1.00)\n"
          ]
        },
        {
          "output_type": "stream",
          "name": "stderr",
          "text": [
            "\rEvaluating answers with Gemini:  13%|█▎        | 19/150 [01:56<16:29,  7.56s/it]"
          ]
        },
        {
          "output_type": "stream",
          "name": "stdout",
          "text": [
            "Problem 18: NO (conf: 0.90)\n"
          ]
        },
        {
          "output_type": "stream",
          "name": "stderr",
          "text": [
            "\rEvaluating answers with Gemini:  13%|█▎        | 20/150 [02:02<15:22,  7.10s/it]"
          ]
        },
        {
          "output_type": "stream",
          "name": "stdout",
          "text": [
            "Problem 19: NO (conf: 1.00)\n"
          ]
        },
        {
          "output_type": "stream",
          "name": "stderr",
          "text": [
            "\rEvaluating answers with Gemini:  14%|█▍        | 21/150 [02:08<14:23,  6.70s/it]"
          ]
        },
        {
          "output_type": "stream",
          "name": "stdout",
          "text": [
            "Problem 20: YES (conf: 1.00)\n"
          ]
        },
        {
          "output_type": "stream",
          "name": "stderr",
          "text": [
            "\rEvaluating answers with Gemini:  15%|█▍        | 22/150 [02:14<14:01,  6.58s/it]"
          ]
        },
        {
          "output_type": "stream",
          "name": "stdout",
          "text": [
            "Problem 21: NO (conf: 1.00)\n"
          ]
        },
        {
          "output_type": "stream",
          "name": "stderr",
          "text": [
            "\rEvaluating answers with Gemini:  15%|█▌        | 23/150 [02:22<14:21,  6.78s/it]"
          ]
        },
        {
          "output_type": "stream",
          "name": "stdout",
          "text": [
            "Problem 22: NO (conf: 1.00)\n"
          ]
        },
        {
          "output_type": "stream",
          "name": "stderr",
          "text": [
            "\rEvaluating answers with Gemini:  16%|█▌        | 24/150 [02:28<13:40,  6.51s/it]"
          ]
        },
        {
          "output_type": "stream",
          "name": "stdout",
          "text": [
            "Problem 23: NO (conf: 1.00)\n"
          ]
        },
        {
          "output_type": "stream",
          "name": "stderr",
          "text": [
            "\rEvaluating answers with Gemini:  17%|█▋        | 25/150 [02:34<13:30,  6.49s/it]"
          ]
        },
        {
          "output_type": "stream",
          "name": "stdout",
          "text": [
            "Problem 24: NO (conf: 1.00)\n"
          ]
        },
        {
          "output_type": "stream",
          "name": "stderr",
          "text": [
            "\rEvaluating answers with Gemini:  17%|█▋        | 26/150 [02:40<13:02,  6.31s/it]"
          ]
        },
        {
          "output_type": "stream",
          "name": "stdout",
          "text": [
            "Problem 25: NO (conf: 1.00)\n"
          ]
        },
        {
          "output_type": "stream",
          "name": "stderr",
          "text": [
            "\rEvaluating answers with Gemini:  18%|█▊        | 27/150 [02:46<12:38,  6.16s/it]"
          ]
        },
        {
          "output_type": "stream",
          "name": "stdout",
          "text": [
            "Problem 26: NO (conf: 1.00)\n"
          ]
        },
        {
          "output_type": "stream",
          "name": "stderr",
          "text": [
            "\rEvaluating answers with Gemini:  19%|█▊        | 28/150 [02:52<12:45,  6.27s/it]"
          ]
        },
        {
          "output_type": "stream",
          "name": "stdout",
          "text": [
            "Problem 27: NO (conf: 1.00)\n"
          ]
        },
        {
          "output_type": "stream",
          "name": "stderr",
          "text": [
            "\rEvaluating answers with Gemini:  19%|█▉        | 29/150 [02:59<12:53,  6.39s/it]"
          ]
        },
        {
          "output_type": "stream",
          "name": "stdout",
          "text": [
            "Problem 28: YES (conf: 1.00)\n"
          ]
        },
        {
          "output_type": "stream",
          "name": "stderr",
          "text": [
            "\rEvaluating answers with Gemini:  20%|██        | 30/150 [03:05<12:45,  6.38s/it]"
          ]
        },
        {
          "output_type": "stream",
          "name": "stdout",
          "text": [
            "Problem 29: NO (conf: 1.00)\n"
          ]
        },
        {
          "output_type": "stream",
          "name": "stderr",
          "text": [
            "\rEvaluating answers with Gemini:  21%|██        | 31/150 [03:11<12:21,  6.23s/it]"
          ]
        },
        {
          "output_type": "stream",
          "name": "stdout",
          "text": [
            "Problem 30: YES (conf: 1.00)\n"
          ]
        },
        {
          "output_type": "stream",
          "name": "stderr",
          "text": [
            "\rEvaluating answers with Gemini:  21%|██▏       | 32/150 [03:17<12:05,  6.15s/it]"
          ]
        },
        {
          "output_type": "stream",
          "name": "stdout",
          "text": [
            "Problem 31: NO (conf: 1.00)\n"
          ]
        },
        {
          "output_type": "stream",
          "name": "stderr",
          "text": [
            "\rEvaluating answers with Gemini:  22%|██▏       | 33/150 [03:24<12:36,  6.46s/it]"
          ]
        },
        {
          "output_type": "stream",
          "name": "stdout",
          "text": [
            "Problem 32: YES (conf: 0.95)\n"
          ]
        },
        {
          "output_type": "stream",
          "name": "stderr",
          "text": [
            "\rEvaluating answers with Gemini:  23%|██▎       | 34/150 [03:30<12:01,  6.22s/it]"
          ]
        },
        {
          "output_type": "stream",
          "name": "stdout",
          "text": [
            "Problem 33: NO (conf: 1.00)\n"
          ]
        },
        {
          "output_type": "stream",
          "name": "stderr",
          "text": [
            "\rEvaluating answers with Gemini:  23%|██▎       | 35/150 [03:36<11:41,  6.10s/it]"
          ]
        },
        {
          "output_type": "stream",
          "name": "stdout",
          "text": [
            "Problem 34: NO (conf: 1.00)\n"
          ]
        },
        {
          "output_type": "stream",
          "name": "stderr",
          "text": [
            "\rEvaluating answers with Gemini:  24%|██▍       | 36/150 [03:42<11:32,  6.08s/it]"
          ]
        },
        {
          "output_type": "stream",
          "name": "stdout",
          "text": [
            "Problem 35: NO (conf: 1.00)\n"
          ]
        },
        {
          "output_type": "stream",
          "name": "stderr",
          "text": [
            "\rEvaluating answers with Gemini:  25%|██▍       | 37/150 [03:48<11:30,  6.11s/it]"
          ]
        },
        {
          "output_type": "stream",
          "name": "stdout",
          "text": [
            "Problem 36: NO (conf: 1.00)\n"
          ]
        },
        {
          "output_type": "stream",
          "name": "stderr",
          "text": [
            "\rEvaluating answers with Gemini:  25%|██▌       | 38/150 [03:54<11:29,  6.16s/it]"
          ]
        },
        {
          "output_type": "stream",
          "name": "stdout",
          "text": [
            "Problem 37: YES (conf: 0.95)\n"
          ]
        },
        {
          "output_type": "stream",
          "name": "stderr",
          "text": [
            "\rEvaluating answers with Gemini:  26%|██▌       | 39/150 [04:01<11:31,  6.23s/it]"
          ]
        },
        {
          "output_type": "stream",
          "name": "stdout",
          "text": [
            "Problem 38: YES (conf: 0.90)\n"
          ]
        },
        {
          "output_type": "stream",
          "name": "stderr",
          "text": [
            "\rEvaluating answers with Gemini:  27%|██▋       | 40/150 [04:07<11:35,  6.33s/it]"
          ]
        },
        {
          "output_type": "stream",
          "name": "stdout",
          "text": [
            "Problem 39: YES (conf: 1.00)\n"
          ]
        },
        {
          "output_type": "stream",
          "name": "stderr",
          "text": [
            "\rEvaluating answers with Gemini:  27%|██▋       | 41/150 [04:13<11:03,  6.09s/it]"
          ]
        },
        {
          "output_type": "stream",
          "name": "stdout",
          "text": [
            "Problem 40: NO (conf: 1.00)\n"
          ]
        },
        {
          "output_type": "stream",
          "name": "stderr",
          "text": [
            "\rEvaluating answers with Gemini:  28%|██▊       | 42/150 [04:19<10:53,  6.05s/it]"
          ]
        },
        {
          "output_type": "stream",
          "name": "stdout",
          "text": [
            "Problem 41: NO (conf: 1.00)\n"
          ]
        },
        {
          "output_type": "stream",
          "name": "stderr",
          "text": [
            "\rEvaluating answers with Gemini:  29%|██▊       | 43/150 [04:25<10:45,  6.03s/it]"
          ]
        },
        {
          "output_type": "stream",
          "name": "stdout",
          "text": [
            "Problem 42: NO (conf: 1.00)\n"
          ]
        },
        {
          "output_type": "stream",
          "name": "stderr",
          "text": [
            "\rEvaluating answers with Gemini:  29%|██▉       | 44/150 [04:30<10:33,  5.98s/it]"
          ]
        },
        {
          "output_type": "stream",
          "name": "stdout",
          "text": [
            "Problem 43: NO (conf: 1.00)\n"
          ]
        },
        {
          "output_type": "stream",
          "name": "stderr",
          "text": [
            "\rEvaluating answers with Gemini:  30%|███       | 45/150 [04:36<10:22,  5.93s/it]"
          ]
        },
        {
          "output_type": "stream",
          "name": "stdout",
          "text": [
            "Problem 44: NO (conf: 1.00)\n"
          ]
        },
        {
          "output_type": "stream",
          "name": "stderr",
          "text": [
            "\rEvaluating answers with Gemini:  31%|███       | 46/150 [04:42<10:16,  5.93s/it]"
          ]
        },
        {
          "output_type": "stream",
          "name": "stdout",
          "text": [
            "Problem 45: NO (conf: 1.00)\n"
          ]
        },
        {
          "output_type": "stream",
          "name": "stderr",
          "text": [
            "\rEvaluating answers with Gemini:  31%|███▏      | 47/150 [04:48<10:10,  5.92s/it]"
          ]
        },
        {
          "output_type": "stream",
          "name": "stdout",
          "text": [
            "Problem 46: NO (conf: 1.00)\n"
          ]
        },
        {
          "output_type": "stream",
          "name": "stderr",
          "text": [
            "\rEvaluating answers with Gemini:  32%|███▏      | 48/150 [04:54<10:05,  5.94s/it]"
          ]
        },
        {
          "output_type": "stream",
          "name": "stdout",
          "text": [
            "Problem 47: NO (conf: 1.00)\n"
          ]
        },
        {
          "output_type": "stream",
          "name": "stderr",
          "text": [
            "\rEvaluating answers with Gemini:  33%|███▎      | 49/150 [05:00<10:12,  6.06s/it]"
          ]
        },
        {
          "output_type": "stream",
          "name": "stdout",
          "text": [
            "Problem 48: NO (conf: 1.00)\n"
          ]
        },
        {
          "output_type": "stream",
          "name": "stderr",
          "text": [
            "\rEvaluating answers with Gemini:  33%|███▎      | 50/150 [05:06<10:01,  6.02s/it]"
          ]
        },
        {
          "output_type": "stream",
          "name": "stdout",
          "text": [
            "Problem 49: NO (conf: 1.00)\n"
          ]
        },
        {
          "output_type": "stream",
          "name": "stderr",
          "text": [
            "\rEvaluating answers with Gemini:  34%|███▍      | 51/150 [05:12<09:54,  6.00s/it]"
          ]
        },
        {
          "output_type": "stream",
          "name": "stdout",
          "text": [
            "Problem 50: NO (conf: 1.00)\n"
          ]
        },
        {
          "output_type": "stream",
          "name": "stderr",
          "text": [
            "\rEvaluating answers with Gemini:  35%|███▍      | 52/150 [05:18<09:43,  5.96s/it]"
          ]
        },
        {
          "output_type": "stream",
          "name": "stdout",
          "text": [
            "Problem 51: NO (conf: 1.00)\n"
          ]
        },
        {
          "output_type": "stream",
          "name": "stderr",
          "text": [
            "\rEvaluating answers with Gemini:  35%|███▌      | 53/150 [05:24<09:42,  6.01s/it]"
          ]
        },
        {
          "output_type": "stream",
          "name": "stdout",
          "text": [
            "Problem 52: NO (conf: 1.00)\n"
          ]
        },
        {
          "output_type": "stream",
          "name": "stderr",
          "text": [
            "\rEvaluating answers with Gemini:  36%|███▌      | 54/150 [05:30<09:25,  5.89s/it]"
          ]
        },
        {
          "output_type": "stream",
          "name": "stdout",
          "text": [
            "Problem 53: NO (conf: 1.00)\n"
          ]
        },
        {
          "output_type": "stream",
          "name": "stderr",
          "text": [
            "\rEvaluating answers with Gemini:  37%|███▋      | 55/150 [05:36<09:18,  5.88s/it]"
          ]
        },
        {
          "output_type": "stream",
          "name": "stdout",
          "text": [
            "Problem 54: NO (conf: 1.00)\n"
          ]
        },
        {
          "output_type": "stream",
          "name": "stderr",
          "text": [
            "\rEvaluating answers with Gemini:  37%|███▋      | 56/150 [05:41<09:07,  5.83s/it]"
          ]
        },
        {
          "output_type": "stream",
          "name": "stdout",
          "text": [
            "Problem 55: NO (conf: 1.00)\n"
          ]
        },
        {
          "output_type": "stream",
          "name": "stderr",
          "text": [
            "\rEvaluating answers with Gemini:  38%|███▊      | 57/150 [05:47<09:04,  5.85s/it]"
          ]
        },
        {
          "output_type": "stream",
          "name": "stdout",
          "text": [
            "Problem 56: YES (conf: 1.00)\n"
          ]
        },
        {
          "output_type": "stream",
          "name": "stderr",
          "text": [
            "\rEvaluating answers with Gemini:  39%|███▊      | 58/150 [05:53<08:53,  5.79s/it]"
          ]
        },
        {
          "output_type": "stream",
          "name": "stdout",
          "text": [
            "Problem 57: NO (conf: 1.00)\n"
          ]
        },
        {
          "output_type": "stream",
          "name": "stderr",
          "text": [
            "\rEvaluating answers with Gemini:  39%|███▉      | 59/150 [06:01<09:52,  6.51s/it]"
          ]
        },
        {
          "output_type": "stream",
          "name": "stdout",
          "text": [
            "Problem 58: NO (conf: 1.00)\n"
          ]
        },
        {
          "output_type": "stream",
          "name": "stderr",
          "text": [
            "\rEvaluating answers with Gemini:  40%|████      | 60/150 [06:07<09:37,  6.42s/it]"
          ]
        },
        {
          "output_type": "stream",
          "name": "stdout",
          "text": [
            "Problem 59: NO (conf: 1.00)\n"
          ]
        },
        {
          "output_type": "stream",
          "name": "stderr",
          "text": [
            "\rEvaluating answers with Gemini:  41%|████      | 61/150 [06:13<09:14,  6.23s/it]"
          ]
        },
        {
          "output_type": "stream",
          "name": "stdout",
          "text": [
            "Problem 60: YES (conf: 1.00)\n"
          ]
        },
        {
          "output_type": "stream",
          "name": "stderr",
          "text": [
            "\rEvaluating answers with Gemini:  41%|████▏     | 62/150 [06:20<09:12,  6.28s/it]"
          ]
        },
        {
          "output_type": "stream",
          "name": "stdout",
          "text": [
            "Problem 61: NO (conf: 1.00)\n"
          ]
        },
        {
          "output_type": "stream",
          "name": "stderr",
          "text": [
            "\rEvaluating answers with Gemini:  42%|████▏     | 63/150 [06:25<08:52,  6.12s/it]"
          ]
        },
        {
          "output_type": "stream",
          "name": "stdout",
          "text": [
            "Problem 62: NO (conf: 1.00)\n"
          ]
        },
        {
          "output_type": "stream",
          "name": "stderr",
          "text": [
            "\rEvaluating answers with Gemini:  43%|████▎     | 64/150 [06:31<08:40,  6.05s/it]"
          ]
        },
        {
          "output_type": "stream",
          "name": "stdout",
          "text": [
            "Problem 63: YES (conf: 1.00)\n"
          ]
        },
        {
          "output_type": "stream",
          "name": "stderr",
          "text": [
            "\rEvaluating answers with Gemini:  43%|████▎     | 65/150 [06:37<08:31,  6.02s/it]"
          ]
        },
        {
          "output_type": "stream",
          "name": "stdout",
          "text": [
            "Problem 64: NO (conf: 1.00)\n"
          ]
        },
        {
          "output_type": "stream",
          "name": "stderr",
          "text": [
            "\rEvaluating answers with Gemini:  44%|████▍     | 66/150 [06:43<08:31,  6.08s/it]"
          ]
        },
        {
          "output_type": "stream",
          "name": "stdout",
          "text": [
            "Problem 65: NO (conf: 1.00)\n"
          ]
        },
        {
          "output_type": "stream",
          "name": "stderr",
          "text": [
            "\rEvaluating answers with Gemini:  45%|████▍     | 67/150 [06:49<08:19,  6.01s/it]"
          ]
        },
        {
          "output_type": "stream",
          "name": "stdout",
          "text": [
            "Problem 66: NO (conf: 1.00)\n"
          ]
        },
        {
          "output_type": "stream",
          "name": "stderr",
          "text": [
            "\rEvaluating answers with Gemini:  45%|████▌     | 68/150 [06:55<08:09,  5.97s/it]"
          ]
        },
        {
          "output_type": "stream",
          "name": "stdout",
          "text": [
            "Problem 67: NO (conf: 1.00)\n"
          ]
        },
        {
          "output_type": "stream",
          "name": "stderr",
          "text": [
            "\rEvaluating answers with Gemini:  46%|████▌     | 69/150 [07:01<08:02,  5.96s/it]"
          ]
        },
        {
          "output_type": "stream",
          "name": "stdout",
          "text": [
            "Problem 68: YES (conf: 1.00)\n"
          ]
        },
        {
          "output_type": "stream",
          "name": "stderr",
          "text": [
            "\rEvaluating answers with Gemini:  47%|████▋     | 70/150 [07:07<07:49,  5.87s/it]"
          ]
        },
        {
          "output_type": "stream",
          "name": "stdout",
          "text": [
            "Problem 69: NO (conf: 1.00)\n"
          ]
        },
        {
          "output_type": "stream",
          "name": "stderr",
          "text": [
            "\rEvaluating answers with Gemini:  47%|████▋     | 71/150 [07:12<07:38,  5.81s/it]"
          ]
        },
        {
          "output_type": "stream",
          "name": "stdout",
          "text": [
            "Problem 70: NO (conf: 1.00)\n"
          ]
        },
        {
          "output_type": "stream",
          "name": "stderr",
          "text": [
            "\rEvaluating answers with Gemini:  48%|████▊     | 72/150 [07:19<07:42,  5.94s/it]"
          ]
        },
        {
          "output_type": "stream",
          "name": "stdout",
          "text": [
            "Problem 71: NO (conf: 1.00)\n"
          ]
        },
        {
          "output_type": "stream",
          "name": "stderr",
          "text": [
            "\rEvaluating answers with Gemini:  49%|████▊     | 73/150 [07:25<07:36,  5.93s/it]"
          ]
        },
        {
          "output_type": "stream",
          "name": "stdout",
          "text": [
            "Problem 72: YES (conf: 1.00)\n"
          ]
        },
        {
          "output_type": "stream",
          "name": "stderr",
          "text": [
            "\rEvaluating answers with Gemini:  49%|████▉     | 74/150 [07:30<07:25,  5.87s/it]"
          ]
        },
        {
          "output_type": "stream",
          "name": "stdout",
          "text": [
            "Problem 73: NO (conf: 1.00)\n"
          ]
        },
        {
          "output_type": "stream",
          "name": "stderr",
          "text": [
            "\rEvaluating answers with Gemini:  50%|█████     | 75/150 [07:36<07:18,  5.85s/it]"
          ]
        },
        {
          "output_type": "stream",
          "name": "stdout",
          "text": [
            "Problem 74: NO (conf: 1.00)\n"
          ]
        },
        {
          "output_type": "stream",
          "name": "stderr",
          "text": [
            "\rEvaluating answers with Gemini:  51%|█████     | 76/150 [07:42<07:14,  5.87s/it]"
          ]
        },
        {
          "output_type": "stream",
          "name": "stdout",
          "text": [
            "Problem 75: NO (conf: 1.00)\n"
          ]
        },
        {
          "output_type": "stream",
          "name": "stderr",
          "text": [
            "\rEvaluating answers with Gemini:  51%|█████▏    | 77/150 [07:48<07:14,  5.95s/it]"
          ]
        },
        {
          "output_type": "stream",
          "name": "stdout",
          "text": [
            "Problem 76: NO (conf: 1.00)\n"
          ]
        },
        {
          "output_type": "stream",
          "name": "stderr",
          "text": [
            "\rEvaluating answers with Gemini:  52%|█████▏    | 78/150 [07:54<07:12,  6.01s/it]"
          ]
        },
        {
          "output_type": "stream",
          "name": "stdout",
          "text": [
            "Problem 77: NO (conf: 1.00)\n"
          ]
        },
        {
          "output_type": "stream",
          "name": "stderr",
          "text": [
            "\rEvaluating answers with Gemini:  53%|█████▎    | 79/150 [08:00<07:03,  5.96s/it]"
          ]
        },
        {
          "output_type": "stream",
          "name": "stdout",
          "text": [
            "Problem 78: NO (conf: 1.00)\n"
          ]
        },
        {
          "output_type": "stream",
          "name": "stderr",
          "text": [
            "\rEvaluating answers with Gemini:  53%|█████▎    | 80/150 [08:06<07:01,  6.03s/it]"
          ]
        },
        {
          "output_type": "stream",
          "name": "stdout",
          "text": [
            "Problem 79: NO (conf: 1.00)\n"
          ]
        },
        {
          "output_type": "stream",
          "name": "stderr",
          "text": [
            "\rEvaluating answers with Gemini:  54%|█████▍    | 81/150 [08:12<06:50,  5.95s/it]"
          ]
        },
        {
          "output_type": "stream",
          "name": "stdout",
          "text": [
            "Problem 80: NO (conf: 1.00)\n"
          ]
        },
        {
          "output_type": "stream",
          "name": "stderr",
          "text": [
            "\rEvaluating answers with Gemini:  55%|█████▍    | 82/150 [08:18<06:45,  5.96s/it]"
          ]
        },
        {
          "output_type": "stream",
          "name": "stdout",
          "text": [
            "Problem 81: NO (conf: 1.00)\n"
          ]
        },
        {
          "output_type": "stream",
          "name": "stderr",
          "text": [
            "\rEvaluating answers with Gemini:  55%|█████▌    | 83/150 [08:24<06:43,  6.02s/it]"
          ]
        },
        {
          "output_type": "stream",
          "name": "stdout",
          "text": [
            "Problem 82: NO (conf: 1.00)\n"
          ]
        },
        {
          "output_type": "stream",
          "name": "stderr",
          "text": [
            "\rEvaluating answers with Gemini:  56%|█████▌    | 84/150 [08:30<06:35,  5.99s/it]"
          ]
        },
        {
          "output_type": "stream",
          "name": "stdout",
          "text": [
            "Problem 83: NO (conf: 1.00)\n"
          ]
        },
        {
          "output_type": "stream",
          "name": "stderr",
          "text": [
            "\rEvaluating answers with Gemini:  57%|█████▋    | 85/150 [08:36<06:25,  5.94s/it]"
          ]
        },
        {
          "output_type": "stream",
          "name": "stdout",
          "text": [
            "Problem 84: NO (conf: 1.00)\n"
          ]
        },
        {
          "output_type": "stream",
          "name": "stderr",
          "text": [
            "\rEvaluating answers with Gemini:  57%|█████▋    | 86/150 [08:42<06:22,  5.98s/it]"
          ]
        },
        {
          "output_type": "stream",
          "name": "stdout",
          "text": [
            "Problem 85: YES (conf: 1.00)\n"
          ]
        },
        {
          "output_type": "stream",
          "name": "stderr",
          "text": [
            "\rEvaluating answers with Gemini:  58%|█████▊    | 87/150 [08:54<08:11,  7.80s/it]"
          ]
        },
        {
          "output_type": "stream",
          "name": "stdout",
          "text": [
            "Problem 86: NO (conf: 0.90)\n"
          ]
        },
        {
          "output_type": "stream",
          "name": "stderr",
          "text": [
            "\rEvaluating answers with Gemini:  59%|█████▊    | 88/150 [09:01<07:49,  7.57s/it]"
          ]
        },
        {
          "output_type": "stream",
          "name": "stdout",
          "text": [
            "Problem 87: YES (conf: 1.00)\n"
          ]
        },
        {
          "output_type": "stream",
          "name": "stderr",
          "text": [
            "\rEvaluating answers with Gemini:  59%|█████▉    | 89/150 [09:07<07:15,  7.14s/it]"
          ]
        },
        {
          "output_type": "stream",
          "name": "stdout",
          "text": [
            "Problem 88: NO (conf: 1.00)\n"
          ]
        },
        {
          "output_type": "stream",
          "name": "stderr",
          "text": [
            "\rEvaluating answers with Gemini:  60%|██████    | 90/150 [09:13<06:50,  6.84s/it]"
          ]
        },
        {
          "output_type": "stream",
          "name": "stdout",
          "text": [
            "Problem 89: NO (conf: 0.95)\n"
          ]
        },
        {
          "output_type": "stream",
          "name": "stderr",
          "text": [
            "\rEvaluating answers with Gemini:  61%|██████    | 91/150 [09:20<06:44,  6.85s/it]"
          ]
        },
        {
          "output_type": "stream",
          "name": "stdout",
          "text": [
            "Problem 90: YES (conf: 0.85)\n"
          ]
        },
        {
          "output_type": "stream",
          "name": "stderr",
          "text": [
            "\rEvaluating answers with Gemini:  61%|██████▏   | 92/150 [09:28<06:44,  6.97s/it]"
          ]
        },
        {
          "output_type": "stream",
          "name": "stdout",
          "text": [
            "Problem 91: NO (conf: 0.99)\n"
          ]
        },
        {
          "output_type": "stream",
          "name": "stderr",
          "text": [
            "\rEvaluating answers with Gemini:  62%|██████▏   | 93/150 [09:34<06:25,  6.76s/it]"
          ]
        },
        {
          "output_type": "stream",
          "name": "stdout",
          "text": [
            "Problem 92: YES (conf: 1.00)\n"
          ]
        },
        {
          "output_type": "stream",
          "name": "stderr",
          "text": [
            "\rEvaluating answers with Gemini:  63%|██████▎   | 94/150 [09:40<06:07,  6.56s/it]"
          ]
        },
        {
          "output_type": "stream",
          "name": "stdout",
          "text": [
            "Problem 93: NO (conf: 1.00)\n"
          ]
        },
        {
          "output_type": "stream",
          "name": "stderr",
          "text": [
            "\rEvaluating answers with Gemini:  63%|██████▎   | 95/150 [09:46<05:55,  6.46s/it]"
          ]
        },
        {
          "output_type": "stream",
          "name": "stdout",
          "text": [
            "Problem 94: NO (conf: 1.00)\n"
          ]
        },
        {
          "output_type": "stream",
          "name": "stderr",
          "text": [
            "\rEvaluating answers with Gemini:  64%|██████▍   | 96/150 [09:53<05:49,  6.47s/it]"
          ]
        },
        {
          "output_type": "stream",
          "name": "stdout",
          "text": [
            "Problem 95: NO (conf: 1.00)\n"
          ]
        },
        {
          "output_type": "stream",
          "name": "stderr",
          "text": [
            "\rEvaluating answers with Gemini:  65%|██████▍   | 97/150 [09:59<05:35,  6.32s/it]"
          ]
        },
        {
          "output_type": "stream",
          "name": "stdout",
          "text": [
            "Problem 96: NO (conf: 1.00)\n"
          ]
        },
        {
          "output_type": "stream",
          "name": "stderr",
          "text": [
            "\rEvaluating answers with Gemini:  65%|██████▌   | 98/150 [10:04<05:19,  6.15s/it]"
          ]
        },
        {
          "output_type": "stream",
          "name": "stdout",
          "text": [
            "Problem 97: NO (conf: 1.00)\n"
          ]
        },
        {
          "output_type": "stream",
          "name": "stderr",
          "text": [
            "\rEvaluating answers with Gemini:  66%|██████▌   | 99/150 [10:11<05:13,  6.15s/it]"
          ]
        },
        {
          "output_type": "stream",
          "name": "stdout",
          "text": [
            "Problem 98: NO (conf: 1.00)\n"
          ]
        },
        {
          "output_type": "stream",
          "name": "stderr",
          "text": [
            "\rEvaluating answers with Gemini:  67%|██████▋   | 100/150 [10:16<05:02,  6.05s/it]"
          ]
        },
        {
          "output_type": "stream",
          "name": "stdout",
          "text": [
            "Problem 99: NO (conf: 1.00)\n"
          ]
        },
        {
          "output_type": "stream",
          "name": "stderr",
          "text": [
            "\rEvaluating answers with Gemini:  67%|██████▋   | 101/150 [10:23<05:03,  6.20s/it]"
          ]
        },
        {
          "output_type": "stream",
          "name": "stdout",
          "text": [
            "Problem 100: NO (conf: 1.00)\n"
          ]
        },
        {
          "output_type": "stream",
          "name": "stderr",
          "text": [
            "\rEvaluating answers with Gemini:  68%|██████▊   | 102/150 [10:29<04:51,  6.08s/it]"
          ]
        },
        {
          "output_type": "stream",
          "name": "stdout",
          "text": [
            "Problem 101: NO (conf: 1.00)\n"
          ]
        },
        {
          "output_type": "stream",
          "name": "stderr",
          "text": [
            "\rEvaluating answers with Gemini:  69%|██████▊   | 103/150 [10:35<04:47,  6.13s/it]"
          ]
        },
        {
          "output_type": "stream",
          "name": "stdout",
          "text": [
            "Problem 102: NO (conf: 1.00)\n"
          ]
        },
        {
          "output_type": "stream",
          "name": "stderr",
          "text": [
            "\rEvaluating answers with Gemini:  69%|██████▉   | 104/150 [10:41<04:42,  6.14s/it]"
          ]
        },
        {
          "output_type": "stream",
          "name": "stdout",
          "text": [
            "Problem 103: NO (conf: 1.00)\n"
          ]
        },
        {
          "output_type": "stream",
          "name": "stderr",
          "text": [
            "\rEvaluating answers with Gemini:  70%|███████   | 105/150 [10:47<04:37,  6.18s/it]"
          ]
        },
        {
          "output_type": "stream",
          "name": "stdout",
          "text": [
            "Problem 104: NO (conf: 1.00)\n"
          ]
        },
        {
          "output_type": "stream",
          "name": "stderr",
          "text": [
            "\rEvaluating answers with Gemini:  71%|███████   | 106/150 [10:54<04:44,  6.46s/it]"
          ]
        },
        {
          "output_type": "stream",
          "name": "stdout",
          "text": [
            "Problem 105: YES (conf: 0.95)\n"
          ]
        },
        {
          "output_type": "stream",
          "name": "stderr",
          "text": [
            "\rEvaluating answers with Gemini:  71%|███████▏  | 107/150 [11:03<05:10,  7.22s/it]"
          ]
        },
        {
          "output_type": "stream",
          "name": "stdout",
          "text": [
            "Problem 106: NO (conf: 1.00)\n"
          ]
        },
        {
          "output_type": "stream",
          "name": "stderr",
          "text": [
            "\rEvaluating answers with Gemini:  72%|███████▏  | 108/150 [11:09<04:44,  6.78s/it]"
          ]
        },
        {
          "output_type": "stream",
          "name": "stdout",
          "text": [
            "Problem 107: NO (conf: 1.00)\n"
          ]
        },
        {
          "output_type": "stream",
          "name": "stderr",
          "text": [
            "\rEvaluating answers with Gemini:  73%|███████▎  | 109/150 [11:15<04:29,  6.57s/it]"
          ]
        },
        {
          "output_type": "stream",
          "name": "stdout",
          "text": [
            "Problem 108: NO (conf: 1.00)\n"
          ]
        },
        {
          "output_type": "stream",
          "name": "stderr",
          "text": [
            "\rEvaluating answers with Gemini:  73%|███████▎  | 110/150 [11:21<04:14,  6.37s/it]"
          ]
        },
        {
          "output_type": "stream",
          "name": "stdout",
          "text": [
            "Problem 109: NO (conf: 1.00)\n"
          ]
        },
        {
          "output_type": "stream",
          "name": "stderr",
          "text": [
            "\rEvaluating answers with Gemini:  74%|███████▍  | 111/150 [11:27<04:05,  6.30s/it]"
          ]
        },
        {
          "output_type": "stream",
          "name": "stdout",
          "text": [
            "Problem 110: NO (conf: 1.00)\n"
          ]
        },
        {
          "output_type": "stream",
          "name": "stderr",
          "text": [
            "\rEvaluating answers with Gemini:  75%|███████▍  | 112/150 [11:34<04:02,  6.39s/it]"
          ]
        },
        {
          "output_type": "stream",
          "name": "stdout",
          "text": [
            "Problem 111: NO (conf: 0.90)\n"
          ]
        },
        {
          "output_type": "stream",
          "name": "stderr",
          "text": [
            "\rEvaluating answers with Gemini:  75%|███████▌  | 113/150 [11:40<03:55,  6.37s/it]"
          ]
        },
        {
          "output_type": "stream",
          "name": "stdout",
          "text": [
            "Problem 112: NO (conf: 1.00)\n"
          ]
        },
        {
          "output_type": "stream",
          "name": "stderr",
          "text": [
            "\rEvaluating answers with Gemini:  76%|███████▌  | 114/150 [11:52<04:42,  7.84s/it]"
          ]
        },
        {
          "output_type": "stream",
          "name": "stdout",
          "text": [
            "Problem 113: NO (conf: 0.95)\n"
          ]
        },
        {
          "output_type": "stream",
          "name": "stderr",
          "text": [
            "\rEvaluating answers with Gemini:  77%|███████▋  | 115/150 [11:58<04:17,  7.37s/it]"
          ]
        },
        {
          "output_type": "stream",
          "name": "stdout",
          "text": [
            "Problem 114: NO (conf: 0.70)\n"
          ]
        },
        {
          "output_type": "stream",
          "name": "stderr",
          "text": [
            "\rEvaluating answers with Gemini:  77%|███████▋  | 116/150 [12:04<03:59,  7.04s/it]"
          ]
        },
        {
          "output_type": "stream",
          "name": "stdout",
          "text": [
            "Problem 115: NO (conf: 1.00)\n"
          ]
        },
        {
          "output_type": "stream",
          "name": "stderr",
          "text": [
            "\rEvaluating answers with Gemini:  78%|███████▊  | 117/150 [12:10<03:38,  6.63s/it]"
          ]
        },
        {
          "output_type": "stream",
          "name": "stdout",
          "text": [
            "Problem 116: NO (conf: 1.00)\n"
          ]
        },
        {
          "output_type": "stream",
          "name": "stderr",
          "text": [
            "\rEvaluating answers with Gemini:  79%|███████▊  | 118/150 [12:16<03:31,  6.60s/it]"
          ]
        },
        {
          "output_type": "stream",
          "name": "stdout",
          "text": [
            "Problem 117: NO (conf: 1.00)\n"
          ]
        },
        {
          "output_type": "stream",
          "name": "stderr",
          "text": [
            "\rEvaluating answers with Gemini:  79%|███████▉  | 119/150 [12:23<03:27,  6.70s/it]"
          ]
        },
        {
          "output_type": "stream",
          "name": "stdout",
          "text": [
            "Problem 118: YES (conf: 0.90)\n"
          ]
        },
        {
          "output_type": "stream",
          "name": "stderr",
          "text": [
            "\rEvaluating answers with Gemini:  80%|████████  | 120/150 [12:29<03:14,  6.49s/it]"
          ]
        },
        {
          "output_type": "stream",
          "name": "stdout",
          "text": [
            "Problem 119: NO (conf: 1.00)\n"
          ]
        },
        {
          "output_type": "stream",
          "name": "stderr",
          "text": [
            "\rEvaluating answers with Gemini:  81%|████████  | 121/150 [12:35<03:04,  6.35s/it]"
          ]
        },
        {
          "output_type": "stream",
          "name": "stdout",
          "text": [
            "Problem 120: NO (conf: 1.00)\n"
          ]
        },
        {
          "output_type": "stream",
          "name": "stderr",
          "text": [
            "\rEvaluating answers with Gemini:  81%|████████▏ | 122/150 [12:42<02:58,  6.38s/it]"
          ]
        },
        {
          "output_type": "stream",
          "name": "stdout",
          "text": [
            "Problem 121: NO (conf: 1.00)\n"
          ]
        },
        {
          "output_type": "stream",
          "name": "stderr",
          "text": [
            "\rEvaluating answers with Gemini:  82%|████████▏ | 123/150 [12:48<02:50,  6.32s/it]"
          ]
        },
        {
          "output_type": "stream",
          "name": "stdout",
          "text": [
            "Problem 122: NO (conf: 1.00)\n"
          ]
        },
        {
          "output_type": "stream",
          "name": "stderr",
          "text": [
            "\rEvaluating answers with Gemini:  83%|████████▎ | 124/150 [12:54<02:42,  6.24s/it]"
          ]
        },
        {
          "output_type": "stream",
          "name": "stdout",
          "text": [
            "Problem 123: NO (conf: 1.00)\n"
          ]
        },
        {
          "output_type": "stream",
          "name": "stderr",
          "text": [
            "\rEvaluating answers with Gemini:  83%|████████▎ | 125/150 [13:00<02:34,  6.20s/it]"
          ]
        },
        {
          "output_type": "stream",
          "name": "stdout",
          "text": [
            "Problem 124: NO (conf: 0.90)\n"
          ]
        },
        {
          "output_type": "stream",
          "name": "stderr",
          "text": [
            "\rEvaluating answers with Gemini:  84%|████████▍ | 126/150 [13:06<02:27,  6.13s/it]"
          ]
        },
        {
          "output_type": "stream",
          "name": "stdout",
          "text": [
            "Problem 125: YES (conf: 1.00)\n"
          ]
        },
        {
          "output_type": "stream",
          "name": "stderr",
          "text": [
            "\rEvaluating answers with Gemini:  85%|████████▍ | 127/150 [13:12<02:22,  6.17s/it]"
          ]
        },
        {
          "output_type": "stream",
          "name": "stdout",
          "text": [
            "Problem 126: NO (conf: 1.00)\n"
          ]
        },
        {
          "output_type": "stream",
          "name": "stderr",
          "text": [
            "\rEvaluating answers with Gemini:  85%|████████▌ | 128/150 [13:18<02:12,  6.02s/it]"
          ]
        },
        {
          "output_type": "stream",
          "name": "stdout",
          "text": [
            "Problem 127: NO (conf: 1.00)\n"
          ]
        },
        {
          "output_type": "stream",
          "name": "stderr",
          "text": [
            "\rEvaluating answers with Gemini:  86%|████████▌ | 129/150 [13:24<02:05,  5.98s/it]"
          ]
        },
        {
          "output_type": "stream",
          "name": "stdout",
          "text": [
            "Problem 128: NO (conf: 0.95)\n"
          ]
        },
        {
          "output_type": "stream",
          "name": "stderr",
          "text": [
            "\rEvaluating answers with Gemini:  87%|████████▋ | 130/150 [13:30<01:58,  5.95s/it]"
          ]
        },
        {
          "output_type": "stream",
          "name": "stdout",
          "text": [
            "Problem 129: NO (conf: 1.00)\n"
          ]
        },
        {
          "output_type": "stream",
          "name": "stderr",
          "text": [
            "\rEvaluating answers with Gemini:  87%|████████▋ | 131/150 [13:36<01:54,  6.03s/it]"
          ]
        },
        {
          "output_type": "stream",
          "name": "stdout",
          "text": [
            "Problem 130: YES (conf: 0.90)\n"
          ]
        },
        {
          "output_type": "stream",
          "name": "stderr",
          "text": [
            "\rEvaluating answers with Gemini:  88%|████████▊ | 132/150 [13:42<01:51,  6.17s/it]"
          ]
        },
        {
          "output_type": "stream",
          "name": "stdout",
          "text": [
            "Problem 131: NO (conf: 1.00)\n"
          ]
        },
        {
          "output_type": "stream",
          "name": "stderr",
          "text": [
            "\rEvaluating answers with Gemini:  89%|████████▊ | 133/150 [14:03<02:57, 10.42s/it]"
          ]
        },
        {
          "output_type": "stream",
          "name": "stdout",
          "text": [
            "Problem 132: NO (conf: 1.00)\n"
          ]
        },
        {
          "output_type": "stream",
          "name": "stderr",
          "text": [
            "\rEvaluating answers with Gemini:  89%|████████▉ | 134/150 [14:10<02:30,  9.41s/it]"
          ]
        },
        {
          "output_type": "stream",
          "name": "stdout",
          "text": [
            "Problem 133: NO (conf: 1.00)\n"
          ]
        },
        {
          "output_type": "stream",
          "name": "stderr",
          "text": [
            "\rEvaluating answers with Gemini:  90%|█████████ | 135/150 [14:17<02:09,  8.63s/it]"
          ]
        },
        {
          "output_type": "stream",
          "name": "stdout",
          "text": [
            "Problem 134: NO (conf: 1.00)\n"
          ]
        },
        {
          "output_type": "stream",
          "name": "stderr",
          "text": [
            "\rEvaluating answers with Gemini:  91%|█████████ | 136/150 [14:22<01:48,  7.78s/it]"
          ]
        },
        {
          "output_type": "stream",
          "name": "stdout",
          "text": [
            "Problem 135: YES (conf: 1.00)\n"
          ]
        },
        {
          "output_type": "stream",
          "name": "stderr",
          "text": [
            "\rEvaluating answers with Gemini:  91%|█████████▏| 137/150 [14:29<01:35,  7.34s/it]"
          ]
        },
        {
          "output_type": "stream",
          "name": "stdout",
          "text": [
            "Problem 136: NO (conf: 1.00)\n"
          ]
        },
        {
          "output_type": "stream",
          "name": "stderr",
          "text": [
            "\rEvaluating answers with Gemini:  92%|█████████▏| 138/150 [14:36<01:28,  7.37s/it]"
          ]
        },
        {
          "output_type": "stream",
          "name": "stdout",
          "text": [
            "Problem 137: NO (conf: 0.95)\n"
          ]
        },
        {
          "output_type": "stream",
          "name": "stderr",
          "text": [
            "\rEvaluating answers with Gemini:  93%|█████████▎| 139/150 [14:42<01:15,  6.89s/it]"
          ]
        },
        {
          "output_type": "stream",
          "name": "stdout",
          "text": [
            "Problem 138: YES (conf: 1.00)\n"
          ]
        },
        {
          "output_type": "stream",
          "name": "stderr",
          "text": [
            "\rEvaluating answers with Gemini:  93%|█████████▎| 140/150 [14:48<01:05,  6.59s/it]"
          ]
        },
        {
          "output_type": "stream",
          "name": "stdout",
          "text": [
            "Problem 139: YES (conf: 1.00)\n"
          ]
        },
        {
          "output_type": "stream",
          "name": "stderr",
          "text": [
            "\rEvaluating answers with Gemini:  94%|█████████▍| 141/150 [14:54<00:57,  6.36s/it]"
          ]
        },
        {
          "output_type": "stream",
          "name": "stdout",
          "text": [
            "Problem 140: NO (conf: 1.00)\n"
          ]
        },
        {
          "output_type": "stream",
          "name": "stderr",
          "text": [
            "\rEvaluating answers with Gemini:  95%|█████████▍| 142/150 [14:59<00:49,  6.17s/it]"
          ]
        },
        {
          "output_type": "stream",
          "name": "stdout",
          "text": [
            "Problem 141: NO (conf: 1.00)\n"
          ]
        },
        {
          "output_type": "stream",
          "name": "stderr",
          "text": [
            "\rEvaluating answers with Gemini:  95%|█████████▌| 143/150 [15:05<00:42,  6.02s/it]"
          ]
        },
        {
          "output_type": "stream",
          "name": "stdout",
          "text": [
            "Problem 142: NO (conf: 1.00)\n"
          ]
        },
        {
          "output_type": "stream",
          "name": "stderr",
          "text": [
            "\rEvaluating answers with Gemini:  96%|█████████▌| 144/150 [15:11<00:36,  6.10s/it]"
          ]
        },
        {
          "output_type": "stream",
          "name": "stdout",
          "text": [
            "Problem 143: YES (conf: 1.00)\n"
          ]
        },
        {
          "output_type": "stream",
          "name": "stderr",
          "text": [
            "\rEvaluating answers with Gemini:  97%|█████████▋| 145/150 [15:17<00:30,  6.03s/it]"
          ]
        },
        {
          "output_type": "stream",
          "name": "stdout",
          "text": [
            "Problem 144: NO (conf: 1.00)\n"
          ]
        },
        {
          "output_type": "stream",
          "name": "stderr",
          "text": [
            "\rEvaluating answers with Gemini:  97%|█████████▋| 146/150 [15:25<00:25,  6.46s/it]"
          ]
        },
        {
          "output_type": "stream",
          "name": "stdout",
          "text": [
            "Problem 145: NO (conf: 0.99)\n"
          ]
        },
        {
          "output_type": "stream",
          "name": "stderr",
          "text": [
            "\rEvaluating answers with Gemini:  98%|█████████▊| 147/150 [15:31<00:18,  6.30s/it]"
          ]
        },
        {
          "output_type": "stream",
          "name": "stdout",
          "text": [
            "Problem 146: NO (conf: 1.00)\n"
          ]
        },
        {
          "output_type": "stream",
          "name": "stderr",
          "text": [
            "\rEvaluating answers with Gemini:  99%|█████████▊| 148/150 [15:37<00:12,  6.21s/it]"
          ]
        },
        {
          "output_type": "stream",
          "name": "stdout",
          "text": [
            "Problem 147: YES (conf: 1.00)\n"
          ]
        },
        {
          "output_type": "stream",
          "name": "stderr",
          "text": [
            "\rEvaluating answers with Gemini:  99%|█████████▉| 149/150 [15:43<00:06,  6.20s/it]"
          ]
        },
        {
          "output_type": "stream",
          "name": "stdout",
          "text": [
            "Problem 148: NO (conf: 1.00)\n"
          ]
        },
        {
          "output_type": "stream",
          "name": "stderr",
          "text": [
            "Evaluating answers with Gemini: 100%|██████████| 150/150 [15:49<00:00,  6.33s/it]"
          ]
        },
        {
          "output_type": "stream",
          "name": "stdout",
          "text": [
            "Problem 149: NO (conf: 1.00)\n",
            "\n",
            "================================================================================\n",
            "EVALUATION COMPLETED!\n",
            "================================================================================\n",
            "Model Used: gemini-2.5-flash-lite\n",
            "Total Problems: 150\n",
            "Successfully Processed: 150\n",
            "Correct Answers: 28\n",
            "Overall Accuracy: 18.67%\n",
            "Problems with Confidence: 149 (99.3%)\n",
            "Average Confidence: 0.989\n",
            "Confidence Range: 0.700 - 1.000\n",
            "Results saved to: /content/evaluation_results_Turkish_Mathstral_150.json\n",
            "================================================================================\n"
          ]
        },
        {
          "output_type": "stream",
          "name": "stderr",
          "text": [
            "\n"
          ]
        }
      ],
      "source": [
        "import json\n",
        "import os\n",
        "import re\n",
        "import time\n",
        "import logging\n",
        "import queue\n",
        "import threading\n",
        "import traceback\n",
        "from tqdm import tqdm\n",
        "from collections import deque\n",
        "from google import genai\n",
        "\n",
        "# Set up logging\n",
        "logging.basicConfig(\n",
        "    level=logging.INFO,\n",
        "    format='%(asctime)s - %(levelname)s - %(message)s',\n",
        "    handlers=[\n",
        "        logging.FileHandler('json_evaluation.log'),\n",
        "        logging.StreamHandler()\n",
        "    ]\n",
        ")\n",
        "\n",
        "\n",
        "class GeminiTranslationApiManager:\n",
        "    \"\"\"\n",
        "    Manages multiple Gemini API keys with rotation and rate limiting for evaluation tasks.\n",
        "    \"\"\"\n",
        "\n",
        "    def __init__(self, api_keys, calls_per_day=1000, rate_limit_delay=5):\n",
        "        if not api_keys:\n",
        "            raise ValueError(\"api_keys must contain at least one key\")\n",
        "\n",
        "        self.api_keys = deque(api_keys)\n",
        "        self.calls_per_day = calls_per_day\n",
        "        self.rate_limit_delay = rate_limit_delay\n",
        "\n",
        "        self.usage_count = {key: 0 for key in api_keys}\n",
        "        self.current_key = self.api_keys[0]\n",
        "        self.client = genai.Client(api_key=self.current_key)\n",
        "\n",
        "        self.lock = threading.Lock()\n",
        "        self.call_queue = queue.Queue()\n",
        "        self.worker_thread = threading.Thread(target=self._process_queue, name=\"GeminiWorker\")\n",
        "        self.worker_thread.daemon = True\n",
        "        self.worker_thread.start()\n",
        "\n",
        "        logging.info(f\"Gemini API Manager initialized with {len(api_keys)} keys\")\n",
        "\n",
        "    def _rotate_key(self):\n",
        "        \"\"\"Rotate to the next available API key.\"\"\"\n",
        "        with self.lock:\n",
        "            self.api_keys.rotate(1)\n",
        "            self.current_key = self.api_keys[0]\n",
        "            self.client = genai.Client(api_key=self.current_key)\n",
        "            usage = self.usage_count.get(self.current_key, 0)\n",
        "        logging.info(f\"Rotated to new API key (usage: {usage})\")\n",
        "\n",
        "    def _find_available_key(self):\n",
        "        \"\"\"Find an API key that hasn't reached the daily limit.\"\"\"\n",
        "        with self.lock:\n",
        "            if self.usage_count.get(self.current_key, 0) < self.calls_per_day:\n",
        "                return True\n",
        "\n",
        "        initial_key = self.current_key\n",
        "        for _ in range(len(self.api_keys)):\n",
        "            self._rotate_key()\n",
        "            with self.lock:\n",
        "                if self.usage_count.get(self.current_key, 0) < self.calls_per_day:\n",
        "                    return True\n",
        "            if self.current_key == initial_key:\n",
        "                return False\n",
        "        return False\n",
        "\n",
        "    def _process_queue(self):\n",
        "        \"\"\"Process the queue of API calls.\"\"\"\n",
        "        while True:\n",
        "            try:\n",
        "                args, kwargs, result_queue = self.call_queue.get()\n",
        "\n",
        "                if not self._find_available_key():\n",
        "                    err = {\"error\": \"All API keys have reached their daily limit\"}\n",
        "                    result_queue.put(err)\n",
        "                    self.call_queue.task_done()\n",
        "                    time.sleep(10)\n",
        "                    continue\n",
        "\n",
        "                try:\n",
        "                    response = self.client.models.generate_content(*args, **kwargs)\n",
        "                    result_queue.put({\"response\": response})\n",
        "                    with self.lock:\n",
        "                        self.usage_count[self.current_key] += 1\n",
        "\n",
        "                except Exception as api_exc:\n",
        "                    msg = str(api_exc).lower()\n",
        "                    if 'quota' in msg or 'rate limit' in msg:\n",
        "                        with self.lock:\n",
        "                            self.usage_count[self.current_key] = self.calls_per_day\n",
        "                        logging.warning(f\"API key reached quota/rate-limit: {api_exc}\")\n",
        "                    result_queue.put({\"error\": str(api_exc)})\n",
        "\n",
        "                time.sleep(self.rate_limit_delay)\n",
        "                self.call_queue.task_done()\n",
        "\n",
        "            except Exception as e:\n",
        "                logging.error(f\"Queue processing error: {e}\\n{traceback.format_exc()}\")\n",
        "                time.sleep(1)\n",
        "\n",
        "    def generate_content(self, *args, timeout=300, **kwargs):\n",
        "        \"\"\"Make an API call to generate content.\"\"\"\n",
        "        result_queue = queue.Queue()\n",
        "        self.call_queue.put((args, kwargs, result_queue))\n",
        "\n",
        "        try:\n",
        "            result = result_queue.get(timeout=timeout)\n",
        "        except queue.Empty:\n",
        "            raise TimeoutError(\"Timed out waiting for API response\")\n",
        "\n",
        "        if \"error\" in result:\n",
        "            raise Exception(result[\"error\"])\n",
        "        return result[\"response\"]\n",
        "\n",
        "    def get_usage_stats(self):\n",
        "        \"\"\"Get usage statistics for all keys.\"\"\"\n",
        "        with self.lock:\n",
        "            per_key = dict(self.usage_count)\n",
        "        total_used = sum(per_key.values())\n",
        "        total_available = len(self.api_keys) * self.calls_per_day\n",
        "        return {\n",
        "            \"per_key\": per_key,\n",
        "            \"total_used\": total_used,\n",
        "            \"total_available\": total_available,\n",
        "            \"percent_used\": (total_used / total_available) * 100 if total_available > 0 else 0\n",
        "        }\n",
        "\n",
        "\n",
        "class GeminiEvaluator:\n",
        "    \"\"\"\n",
        "    Gemini evaluator that enforces a simple ASCII thinking marker (<<END_THINK>>)\n",
        "    and parses a machine-friendly JSON block emitted by the model when available.\n",
        "    \"\"\"\n",
        "\n",
        "    THINK_MARKER = \"<<END_THINK>>\"\n",
        "\n",
        "    # Example for few-shot prompting\n",
        "    EXAMPLE_EVALUATION = \"\"\"\n",
        "EXAMPLE:\n",
        "Student Answer: 3/4\n",
        "Ground Truth: 0.75\n",
        "Analysis: Converting fraction to decimal: 3 ÷ 4 = 0.75. Both represent the same mathematical value.\n",
        "<<END_THINK>>\n",
        "{\"decision\":\"YES\", \"confidence\":0.95, \"short_reason\":\"3/4 equals 0.75, same value\"}\n",
        "DECISION: YES\n",
        "\n",
        "EXAMPLE:\n",
        "Student Answer: x = 2, y = 3\n",
        "Ground Truth: (2, 3)\n",
        "Analysis: Both express the same solution set for variables x and y, just in different notation.\n",
        "<<END_THINK>>\n",
        "{\"decision\":\"YES\", \"confidence\":0.9, \"short_reason\":\"Same solution values, different format\"}\n",
        "DECISION: YES\n",
        "\n",
        "EXAMPLE:\n",
        "Student Answer: 45°\n",
        "Ground Truth: π/4\n",
        "Analysis: Converting: 45° = 45 × π/180 = π/4 radians. Equivalent angle representations.\n",
        "<<END_THINK>>\n",
        "{\"decision\":\"YES\", \"confidence\":0.95, \"short_reason\":\"45° equals π/4 radians\"}\n",
        "DECISION: YES\n",
        "\"\"\"\n",
        "\n",
        "    def __init__(self, api_manager: GeminiTranslationApiManager, seed=42):\n",
        "        self.api_manager = api_manager\n",
        "        self.seed = seed\n",
        "        self.model_name = \"gemini-2.5-flash-lite\"\n",
        "\n",
        "        logging.info(f\"Gemini evaluator initialized with model: {self.model_name}\")\n",
        "        print(f\"Gemini evaluator initialized with model: {self.model_name}\")\n",
        "\n",
        "    def generate_response(self, prompt):\n",
        "        \"\"\"\n",
        "        Generate response using Gemini API and split at THINK_MARKER.\n",
        "        Returns: (thinking_text, final_text, full_response_text)\n",
        "        \"\"\"\n",
        "        try:\n",
        "            response = self.api_manager.generate_content(\n",
        "                model=self.model_name,\n",
        "                contents=prompt,\n",
        "                timeout=300\n",
        "            )\n",
        "\n",
        "            # Extract response text\n",
        "            full_response = \"\"\n",
        "            if hasattr(response, 'text'):\n",
        "                full_response = response.text\n",
        "            elif isinstance(response, dict) and 'text' in response:\n",
        "                full_response = response['text']\n",
        "            else:\n",
        "                full_response = str(response)\n",
        "\n",
        "            full_response = full_response.strip()\n",
        "\n",
        "            # Try to find the last occurrence of the THINK_MARKER in the response\n",
        "            marker = self.THINK_MARKER\n",
        "            idx = full_response.rfind(marker)\n",
        "            if idx >= 0:\n",
        "                thinking = full_response[:idx].strip()\n",
        "                final = full_response[idx + len(marker):].strip()\n",
        "                return thinking, final, full_response\n",
        "\n",
        "            # If no marker present, return empty thinking and whole text as final\n",
        "            return \"\", full_response, full_response\n",
        "\n",
        "        except Exception as e:\n",
        "            logging.error(f\"Error generating response with Gemini: {e}\", exc_info=True)\n",
        "            return \"\", f\"Error: {str(e)}\", \"\"\n",
        "\n",
        "\n",
        "def validate_inputs(generated_answer, exact_answer):\n",
        "    \"\"\"\n",
        "    Validate inputs before processing.\n",
        "    Returns: (is_valid, error_message)\n",
        "    \"\"\"\n",
        "    if not exact_answer or not generated_answer:\n",
        "        return False, \"Missing essential data\"\n",
        "\n",
        "    generated_str = str(generated_answer)\n",
        "    exact_str = str(exact_answer)\n",
        "\n",
        "    # Gemini has very high context limits, so we can be more lenient\n",
        "    if len(generated_str) > 100000:  # Much higher limit for Gemini\n",
        "        return False, f\"Generated answer too long ({len(generated_str)} chars)\"\n",
        "\n",
        "    if len(exact_str) > 100000:  # Much higher limit for Gemini\n",
        "        return False, f\"Exact answer too long ({len(exact_str)} chars)\"\n",
        "\n",
        "    return True, \"\"\n",
        "\n",
        "\n",
        "def _extract_json_block(text):\n",
        "    \"\"\"\n",
        "    Find the last valid JSON object in text using improved pattern matching.\n",
        "    Returns (json_obj, json_text) or (None, None)\n",
        "    \"\"\"\n",
        "    if not text:\n",
        "        return None, None\n",
        "\n",
        "    # First try: regex pattern for JSON-like structures\n",
        "    json_pattern = r'\\{[^{}]*(?:\\{[^{}]*\\}[^{}]*)*\\}'\n",
        "    matches = re.findall(json_pattern, text)\n",
        "\n",
        "    # Try matches in reverse order (last match first)\n",
        "    for match in reversed(matches):\n",
        "        try:\n",
        "            obj = json.loads(match)\n",
        "            return obj, match\n",
        "        except:\n",
        "            continue\n",
        "\n",
        "    # Fallback: original greedy approach\n",
        "    last_open = text.rfind('{')\n",
        "    if last_open == -1:\n",
        "        return None, None\n",
        "\n",
        "    candidate = text[last_open:]\n",
        "    brace_count = 0\n",
        "\n",
        "    for i, char in enumerate(candidate):\n",
        "        if char == '{':\n",
        "            brace_count += 1\n",
        "        elif char == '}':\n",
        "            brace_count -= 1\n",
        "            if brace_count == 0:\n",
        "                try:\n",
        "                    maybe = candidate[:i+1]\n",
        "                    obj = json.loads(maybe)\n",
        "                    return obj, maybe\n",
        "                except:\n",
        "                    continue\n",
        "\n",
        "    return None, None\n",
        "\n",
        "\n",
        "def extract_decision_and_confidence(final_text):\n",
        "    \"\"\"\n",
        "    Try to extract a decision and optional confidence from the final_text.\n",
        "    Priority:\n",
        "      1) JSON block with keys 'decision' (YES/NO) and optional 'confidence'\n",
        "      2) A final line 'DECISION: YES' or 'DECISION: NO'\n",
        "      3) Conservative heuristic text match (more specific than original)\n",
        "    Returns: (decision_str_or_none, confidence_or_none, short_reason_or_none)\n",
        "    \"\"\"\n",
        "    if not final_text:\n",
        "        return None, None, None\n",
        "\n",
        "    # 1) Try JSON block first\n",
        "    obj, obj_text = _extract_json_block(final_text)\n",
        "    if obj is not None:\n",
        "        decision = None\n",
        "        conf = None\n",
        "        short = None\n",
        "\n",
        "        # Normalize decision key\n",
        "        for key in (\"decision\", \"Decision\", \"DECISION\"):\n",
        "            if key in obj:\n",
        "                decision_val = str(obj[key]).strip().upper()\n",
        "                if decision_val in (\"YES\", \"NO\", \"TRUE\", \"FALSE\", \"1\", \"0\"):\n",
        "                    decision = \"YES\" if decision_val in (\"YES\", \"TRUE\", \"1\") else \"NO\"\n",
        "                break\n",
        "\n",
        "        # Extract confidence\n",
        "        for key in (\"confidence\", \"conf\", \"confidence_score\"):\n",
        "            if key in obj:\n",
        "                try:\n",
        "                    conf_val = float(obj[key])\n",
        "                    if 0.0 <= conf_val <= 1.0:\n",
        "                        conf = conf_val\n",
        "                    elif 0.0 <= conf_val <= 100.0:  # Handle percentage format\n",
        "                        conf = conf_val / 100.0\n",
        "                except:\n",
        "                    conf = None\n",
        "                break\n",
        "\n",
        "        # Extract short reason\n",
        "        for key in (\"short_reason\", \"reason\", \"short_reasoning\"):\n",
        "            if key in obj:\n",
        "                short = str(obj[key])\n",
        "                break\n",
        "\n",
        "        if decision in (\"YES\", \"NO\"):\n",
        "            return decision.lower(), conf, short\n",
        "\n",
        "    # 2) Check final lines for DECISION: YES/NO\n",
        "    lines = [ln.strip() for ln in final_text.strip().splitlines() if ln.strip()]\n",
        "    if lines:\n",
        "        last_line = lines[-1].upper().rstrip('.')\n",
        "        decision_patterns = [\n",
        "            \"DECISION: YES\", \"DECISION YES\", \"YES\", \"DECISION: YES.\",\n",
        "            \"DECISION: NO\", \"DECISION NO\", \"NO\", \"DECISION: NO.\"\n",
        "        ]\n",
        "\n",
        "        for pattern in decision_patterns:\n",
        "            if last_line == pattern:\n",
        "                return 'yes' if 'YES' in pattern else 'no', None, None\n",
        "\n",
        "    # 3) More conservative heuristic matching\n",
        "    # Only trigger if we see specific mathematical equivalence phrases\n",
        "    # in the context of a conclusion\n",
        "    tail = \" \".join(lines[-3:]).upper()\n",
        "    conclusion_indicators = [\"THEREFORE\", \"THUS\", \"CONCLUSION\", \"FINAL\", \"RESULT\"]\n",
        "\n",
        "    has_conclusion_context = any(indicator in tail for indicator in conclusion_indicators)\n",
        "\n",
        "    if has_conclusion_context:\n",
        "        positive_phrases = [\n",
        "            \"MATHEMATICALLY EQUIVALENT\", \"ARE THE SAME\", \"REPRESENT THE SAME\",\n",
        "            \"SAME VALUE\", \"EQUIVALENT EXPRESSIONS\", \"EQUAL VALUES\"\n",
        "        ]\n",
        "        negative_phrases = [\n",
        "            \"NOT EQUIVALENT\", \"ARE DIFFERENT\", \"NOT THE SAME\",\n",
        "            \"DIFFERENT VALUES\", \"NOT EQUAL\", \"DISTINCT\"\n",
        "        ]\n",
        "\n",
        "        if any(phrase in tail for phrase in positive_phrases):\n",
        "            return 'yes', None, None\n",
        "        if any(phrase in tail for phrase in negative_phrases):\n",
        "            return 'no', None, None\n",
        "\n",
        "    return None, None, None\n",
        "\n",
        "\n",
        "def compare_answers_with_gemini(gemini_evaluator, generated_answer, exact_answer, problem_index, require_json=False):\n",
        "    \"\"\"\n",
        "    Compare generated answer with exact answer using Gemini as a judge.\n",
        "    If require_json=True, prefer outputs that contain a JSON block.\n",
        "    Returns a dict with thinking, final_text, decision ('yes'/'no'/None), confidence, short_reason\n",
        "    \"\"\"\n",
        "    try:\n",
        "        if isinstance(generated_answer, list):\n",
        "            generated_answer_text = str(generated_answer[0]) if generated_answer else \"No answer provided\"\n",
        "        else:\n",
        "            generated_answer_text = str(generated_answer) if generated_answer else \"No answer provided\"\n",
        "\n",
        "        # Input validation\n",
        "        is_valid, error_msg = validate_inputs(generated_answer_text, exact_answer)\n",
        "        if not is_valid:\n",
        "            return {\n",
        "                'thinking': '',\n",
        "                'final_text': f'Input validation failed: {error_msg}',\n",
        "                'full_decoded': '',\n",
        "                'decision': None,\n",
        "                'confidence': None,\n",
        "                'short_reason': None,\n",
        "            }\n",
        "\n",
        "        prompt = f\"\"\"You are an expert mathematics evaluation specialist. Your task is to determine if two mathematical answers are mathematically equivalent according to the rubric below.\n",
        "\n",
        "EVALUATION CRITERIA:\n",
        "1) MATHEMATICAL EQUIVALENCE: same value/expression/solution set.\n",
        "2) PROOF VALIDATION: same logical conclusion for proof tasks.\n",
        "3) SET EQUIVALENCE: sets equal regardless of order.\n",
        "4) NUMERICAL PRECISION: accept reasonable rounding differences (±0.01).\n",
        "5) UNITS: units must be compatible/convertible.\n",
        "6) FORMATTING: ignore LaTeX/formatting/language differences.\n",
        "7) TRIGONOMETRIC EQUIVALENCE: accept equivalent angle representations.\n",
        "8) ALGEBRAIC EQUIVALENCE: accept equivalent algebraic forms.\n",
        "\n",
        "{GeminiEvaluator.EXAMPLE_EVALUATION}\n",
        "\n",
        "EVALUATION PROCESS:\n",
        "Step 1: Extract core mathematical content from both answers.\n",
        "Step 2: Identify domain (algebra, geometry, calculus, etc.) and apply domain-specific checks.\n",
        "Step 3: Check for mathematical equivalence using appropriate methods.\n",
        "Step 4: Note any fundamental differences in mathematical meaning.\n",
        "Step 5: Make final decision with confidence assessment.\n",
        "\n",
        "OUTPUT REQUIREMENTS (follow exactly):\n",
        "1) Give a concise step-by-step analysis.\n",
        "2) THEN insert the THINKING marker on its own line exactly:\n",
        "{GeminiEvaluator.THINK_MARKER}\n",
        "3) After the marker, provide the final machine-friendly JSON block like:\n",
        "   {{\"decision\":\"YES\" or \"NO\", \"confidence\":0.0-1.0, \"short_reason\":\"...\"}}\n",
        "4) Finally end the entire response with a single final line (no trailing text):\n",
        "   DECISION: YES\n",
        "   OR\n",
        "   DECISION: NO\n",
        "\n",
        "Now evaluate the following:\n",
        "\n",
        "STUDENT ANSWER:\n",
        "{generated_answer_text}\n",
        "\n",
        "GROUND TRUTH:\n",
        "{exact_answer}\n",
        "\"\"\"\n",
        "\n",
        "        thinking, final_text, full = gemini_evaluator.generate_response(prompt)\n",
        "\n",
        "        # If the marker wasn't present in the response, thinking will be empty and final_text contains everything.\n",
        "        decision, confidence, short_reason = extract_decision_and_confidence(final_text)\n",
        "\n",
        "        return {\n",
        "            'thinking': thinking,\n",
        "            'final_text': final_text,\n",
        "            'full_decoded': full,\n",
        "            'decision': decision,\n",
        "            'confidence': confidence,\n",
        "            'short_reason': short_reason,\n",
        "        }\n",
        "\n",
        "    except Exception as e:\n",
        "        logging.error(f\"Error comparing answers for problem {problem_index}: {e}\", exc_info=True)\n",
        "        return {\n",
        "            'thinking': '',\n",
        "            'final_text': f'Error occurred during comparison: {str(e)}',\n",
        "            'full_decoded': '',\n",
        "            'decision': None,\n",
        "            'confidence': None,\n",
        "            'short_reason': None,\n",
        "        }\n",
        "\n",
        "\n",
        "def validate_and_retry_comparison(gemini_evaluator, generated_answer, exact_answer, problem_index, max_retries=3, require_json=False):\n",
        "    \"\"\"\n",
        "    Retry loop that prefers a JSON decision when require_json=True.\n",
        "    Returns (thinking, final_text, decision, confidence, short_reason)\n",
        "    \"\"\"\n",
        "    last_result = None\n",
        "\n",
        "    for attempt in range(1, max_retries + 1):\n",
        "        result = compare_answers_with_gemini(\n",
        "            gemini_evaluator,\n",
        "            generated_answer,\n",
        "            exact_answer,\n",
        "            problem_index,\n",
        "            require_json=require_json\n",
        "        )\n",
        "\n",
        "        decision = result['decision']\n",
        "        thinking = result['thinking']\n",
        "        final_text = result['final_text']\n",
        "        confidence = result.get('confidence')\n",
        "        short_reason = result.get('short_reason')\n",
        "\n",
        "        last_result = result\n",
        "\n",
        "        # Success condition: we got a valid decision\n",
        "        if decision in ('yes', 'no'):\n",
        "            # If we require JSON and got confidence, that's preferred\n",
        "            if require_json and confidence is not None:\n",
        "                logging.info(f\"Problem {problem_index}: Got JSON decision with confidence {confidence}\")\n",
        "            return thinking, final_text, decision, confidence, short_reason\n",
        "\n",
        "        logging.warning(f\"Attempt {attempt}/{max_retries} failed to get explicit decision for problem {problem_index}; decision={decision}\")\n",
        "\n",
        "        # For retries, we could adjust temperature slightly\n",
        "        if attempt < max_retries:\n",
        "            time.sleep(0.1)  # Brief pause between retries\n",
        "\n",
        "    # If all attempts fail, default conservatively to 'no'\n",
        "    logging.error(f\"All {max_retries} attempts failed for problem {problem_index}; defaulting to 'no'\")\n",
        "    if last_result is None:\n",
        "        return '', 'All attempts failed - no output', 'no', None, 'Evaluation failed'\n",
        "\n",
        "    return (\n",
        "        last_result['thinking'],\n",
        "        last_result['final_text'],\n",
        "        'no',  # Conservative default\n",
        "        last_result.get('confidence'),\n",
        "        last_result.get('short_reason') or 'Failed to get clear decision'\n",
        "    )\n",
        "\n",
        "\n",
        "def save_json_atomic(obj, path):\n",
        "    \"\"\"Save JSON file atomically to prevent corruption.\"\"\"\n",
        "    tmp = path + '.tmp'\n",
        "    with open(tmp, 'w', encoding='utf-8') as f:\n",
        "        json.dump(obj, f, indent=2, ensure_ascii=False)\n",
        "    os.replace(tmp, path)\n",
        "\n",
        "\n",
        "def calculate_confidence_stats(evaluation_results):\n",
        "    \"\"\"Calculate statistics for confidence scores.\"\"\"\n",
        "    confidences = [r.get('confidence') for r in evaluation_results if r.get('confidence') is not None]\n",
        "    if not confidences:\n",
        "        return {\"count\": 0}\n",
        "\n",
        "    return {\n",
        "        \"count\": len(confidences),\n",
        "        \"mean\": sum(confidences) / len(confidences),\n",
        "        \"min\": min(confidences),\n",
        "        \"max\": max(confidences),\n",
        "        \"median\": sorted(confidences)[len(confidences) // 2]\n",
        "    }\n",
        "\n",
        "\n",
        "def main():\n",
        "    \"\"\"Main function to execute the evaluation process.\"\"\"\n",
        "\n",
        "    # Configuration\n",
        "    JSON_FILE_PATH = '/content/Turkish_Mathstral_150.json'\n",
        "    OUTPUT_FILE_PATH = '/content/evaluation_results_Turkish_Mathstral_150.json'\n",
        "\n",
        "    # Judge generation settings\n",
        "    MAX_RETRIES = 3\n",
        "    PREFER_JSON = True\n",
        "\n",
        "    # Load API keys - you'll need to set this up\n",
        "    # Replace this with your API key loading mechanism\n",
        "    try:\n",
        "        with open('/content/part_3_api_key.txt','r') as fh:\n",
        "            keys = fh.read().strip()\n",
        "\n",
        "        if keys:\n",
        "            os.environ['GEMINI_API_KEYS'] = keys\n",
        "            logging.info(\"Loaded API keys successfully\")\n",
        "\n",
        "        api_keys = None\n",
        "        if 'keys' in locals() and keys:\n",
        "            api_keys = [k.strip() for k in keys.split(',') if k.strip()]\n",
        "\n",
        "        if not api_keys:\n",
        "            env_val = os.environ.get('GEMINI_API_KEYS', '').strip()\n",
        "            if env_val:\n",
        "                api_keys = [k.strip() for k in env_val.split(',') if k.strip()]\n",
        "\n",
        "        if not api_keys:\n",
        "            raise ValueError(\"No API keys found\")\n",
        "\n",
        "    except Exception as e:\n",
        "        logging.error(f\"Failed to load API keys: {e}\")\n",
        "        print(f\"Error loading API keys: {e}\")\n",
        "        return\n",
        "\n",
        "    # Initialize API manager\n",
        "    api_manager = GeminiTranslationApiManager(\n",
        "        api_keys=api_keys,\n",
        "        calls_per_day=1000,\n",
        "        rate_limit_delay=5\n",
        "    )\n",
        "\n",
        "    # Initialize evaluator\n",
        "    gemini_evaluator = GeminiEvaluator(\n",
        "        api_manager=api_manager,\n",
        "        seed=42  # For reproducibility\n",
        "    )\n",
        "\n",
        "    # Load input data\n",
        "    try:\n",
        "        with open(JSON_FILE_PATH, 'r', encoding='utf-8') as f:\n",
        "            json_data = json.load(f)\n",
        "        logging.info(f\"Loaded {len(json_data)} problems from JSON file\")\n",
        "        print(f\"Loaded {len(json_data)} problems from JSON file\")\n",
        "    except Exception as e:\n",
        "        logging.error(f\"Failed to load JSON input: {e}\")\n",
        "        print(f\"Error loading JSON: {e}\")\n",
        "        return\n",
        "\n",
        "    evaluation_results = []\n",
        "    total_problems = len(json_data)\n",
        "    correct_answers = 0\n",
        "    processed_problems = 0\n",
        "    problems_with_confidence = 0\n",
        "\n",
        "    # Process each problem\n",
        "    for idx, problem in enumerate(tqdm(json_data, desc='Evaluating answers with Gemini')):\n",
        "        try:\n",
        "            problem_index = problem.get('problem_index', idx)\n",
        "            generated_answers = problem.get('extracted_final_answers', [])\n",
        "            exact_answer = problem.get('exact_answer', '')\n",
        "            question = problem.get('question', '')\n",
        "            raw_answer_type = problem.get('raw_answer_type', '')\n",
        "\n",
        "            # Skip problems with missing data\n",
        "            if not generated_answers or not exact_answer:\n",
        "                logging.warning(f\"Skipping problem {problem_index}: missing data\")\n",
        "                evaluation_results.append({\n",
        "                    'problem_index': problem_index,\n",
        "                    'question': question,\n",
        "                    'answer_type': raw_answer_type,\n",
        "                    'extracted_final_answers': generated_answers,\n",
        "                    'exact_answer': exact_answer,\n",
        "                    'decision': 'no',\n",
        "                    'confidence': None,\n",
        "                    'short_reason': 'Missing essential data',\n",
        "                    'thinking': '',\n",
        "                    'final_text': 'Missing essential data',\n",
        "                })\n",
        "                continue\n",
        "\n",
        "            # Perform evaluation\n",
        "            thinking, final_text, decision, confidence, short_reason = validate_and_retry_comparison(\n",
        "                gemini_evaluator,\n",
        "                generated_answers,\n",
        "                exact_answer,\n",
        "                problem_index,\n",
        "                max_retries=MAX_RETRIES,\n",
        "                require_json=PREFER_JSON,\n",
        "            )\n",
        "\n",
        "            # Store results\n",
        "            entry = {\n",
        "                'problem_index': problem_index,\n",
        "                'question': question,\n",
        "                'answer_type': raw_answer_type,\n",
        "                'extracted_final_answers': generated_answers,\n",
        "                'exact_answer': exact_answer,\n",
        "                'decision': decision,\n",
        "                'confidence': confidence,\n",
        "                'short_reason': short_reason,\n",
        "                'thinking': thinking,\n",
        "                'final_text': final_text,\n",
        "            }\n",
        "            evaluation_results.append(entry)\n",
        "\n",
        "            # Update counters\n",
        "            processed_problems += 1\n",
        "            if decision == 'yes':\n",
        "                correct_answers += 1\n",
        "            if confidence is not None:\n",
        "                problems_with_confidence += 1\n",
        "\n",
        "            # Progress logging\n",
        "            print(f\"Problem {problem_index}: {decision.upper()}\" +\n",
        "                  (f\" (conf: {confidence:.2f})\" if confidence else \"\"))\n",
        "            logging.info(f\"Problem {problem_index}: {decision.upper()}\" +\n",
        "                        (f\" (confidence: {confidence})\" if confidence else \"\"))\n",
        "\n",
        "            # Intermediate saves and progress reports\n",
        "            if processed_problems % 50 == 0:\n",
        "                accuracy = (correct_answers / processed_problems) * 100 if processed_problems else 0\n",
        "                conf_rate = (problems_with_confidence / processed_problems) * 100\n",
        "                logging.info(f\"Progress: {processed_problems}/{total_problems} \"\n",
        "                           f\"Accuracy: {correct_answers}/{processed_problems} ({accuracy:.2f}%) \"\n",
        "                           f\"Confidence rate: {problems_with_confidence}/{processed_problems} ({conf_rate:.1f}%)\")\n",
        "\n",
        "                # Save intermediate results\n",
        "                intermediate_file = OUTPUT_FILE_PATH.replace('.json', f'_checkpoint_{processed_problems}.json')\n",
        "                save_json_atomic(evaluation_results, intermediate_file)\n",
        "\n",
        "        except Exception as e:\n",
        "            logging.error(f\"Error processing problem {problem.get('problem_index', idx)}: {e}\")\n",
        "            evaluation_results.append({\n",
        "                'problem_index': problem.get('problem_index', idx),\n",
        "                'question' : problem.get('question', ''),\n",
        "                'answer_type' : problem.get('raw_answer_type', ''),\n",
        "                'extracted_final_answers': problem.get('extracted_final_answers', []),\n",
        "                'exact_answer': problem.get('exact_answer', ''),\n",
        "                'decision': 'no',\n",
        "                'confidence': None,\n",
        "                'short_reason': f'Error during evaluation: {str(e)}',\n",
        "                'thinking': '',\n",
        "                'final_text': f'Error during evaluation: {str(e)}',\n",
        "            })\n",
        "            continue\n",
        "\n",
        "    # Calculate final statistics\n",
        "    overall_accuracy = (correct_answers / processed_problems) * 100 if processed_problems else 0\n",
        "    confidence_rate = (problems_with_confidence / processed_problems) * 100 if processed_problems else 0\n",
        "    confidence_stats = calculate_confidence_stats(evaluation_results)\n",
        "\n",
        "    # Prepare final results\n",
        "    final_results = {\n",
        "        'evaluation_metadata': {\n",
        "            'model_used': gemini_evaluator.model_name,\n",
        "            'total_problems': total_problems,\n",
        "            'successfully_processed': processed_problems,\n",
        "            'correct_answers': correct_answers,\n",
        "            'overall_accuracy_percentage': round(overall_accuracy, 2),\n",
        "            'problems_with_confidence': problems_with_confidence,\n",
        "            'confidence_rate_percentage': round(confidence_rate, 2),\n",
        "            'confidence_statistics': confidence_stats,\n",
        "            'evaluation_timestamp': time.strftime('%Y-%m-%d %H:%M:%S'),\n",
        "            'settings': {\n",
        "                'max_retries': MAX_RETRIES,\n",
        "                'prefer_json': PREFER_JSON,\n",
        "                'seed': gemini_evaluator.seed,\n",
        "            }\n",
        "        },\n",
        "        'problem_evaluations': evaluation_results,\n",
        "    }\n",
        "\n",
        "    # Save final results\n",
        "    save_json_atomic(final_results, OUTPUT_FILE_PATH)\n",
        "\n",
        "    # Print summary\n",
        "    print('\\n' + '='*80)\n",
        "    print('EVALUATION COMPLETED!')\n",
        "    print('='*80)\n",
        "    print(f\"Model Used: {gemini_evaluator.model_name}\")\n",
        "    print(f\"Total Problems: {total_problems}\")\n",
        "    print(f\"Successfully Processed: {processed_problems}\")\n",
        "    print(f\"Correct Answers: {correct_answers}\")\n",
        "    print(f\"Overall Accuracy: {overall_accuracy:.2f}%\")\n",
        "    print(f\"Problems with Confidence: {problems_with_confidence} ({confidence_rate:.1f}%)\")\n",
        "    if confidence_stats.get('count', 0) > 0:\n",
        "        print(f\"Average Confidence: {confidence_stats['mean']:.3f}\")\n",
        "        print(f\"Confidence Range: {confidence_stats['min']:.3f} - {confidence_stats['max']:.3f}\")\n",
        "    print(f\"Results saved to: {OUTPUT_FILE_PATH}\")\n",
        "    print('='*80)\n",
        "\n",
        "    # Final logging\n",
        "    logging.info('JSON answer comparison with Gemini completed!')\n",
        "    logging.info(f\"Final Results: {correct_answers}/{processed_problems} correct ({overall_accuracy:.2f}%)\")\n",
        "    logging.info(f\"Confidence provided for {problems_with_confidence}/{processed_problems} problems ({confidence_rate:.1f}%)\")\n",
        "    logging.info(f\"Results saved to: {OUTPUT_FILE_PATH}\")\n",
        "\n",
        "\n",
        "if __name__ == '__main__':\n",
        "    main()"
      ]
    },
    {
      "cell_type": "code",
      "source": [
        "import json\n",
        "import os\n",
        "from collections import defaultdict, OrderedDict\n",
        "\n",
        "def compute_accuracy(path):\n",
        "    \"\"\"\n",
        "    Same computation but returns an OrderedDict with top-level keys in this order:\n",
        "    Numerical, Proof, Symbolic, Overall\n",
        "    Each Answer-Type dict fields are in the order:\n",
        "    'Answer Type', 'accuracy_percent', 'no', 'other', 'total', 'yes'\n",
        "    Overall fields in order:\n",
        "    'accuracy_percent', 'decision_known_total', 'decision_known_yes', 'total_items', 'yes'\n",
        "    \"\"\"\n",
        "    if not os.path.exists(path):\n",
        "        raise FileNotFoundError(f\"File not found: {path}\")\n",
        "\n",
        "    with open(path, 'r', encoding='utf-8') as f:\n",
        "        data = json.load(f)\n",
        "\n",
        "    items = data.get('problem_evaluations', [])\n",
        "    stats = defaultdict(lambda: {'total': 0, 'yes': 0, 'no': 0, 'other': 0})\n",
        "\n",
        "    for it in items:\n",
        "        a_type = it.get('answer_type')\n",
        "        # Normalize Answer Type (keep None for missing)\n",
        "        a_type_norm = a_type.strip() if isinstance(a_type, str) else None\n",
        "\n",
        "        decision = str(it.get('decision', '')).strip().lower()\n",
        "\n",
        "        stats[a_type_norm]['total'] += 1\n",
        "        if decision == 'yes':\n",
        "            stats[a_type_norm]['yes'] += 1\n",
        "        elif decision == 'no':\n",
        "            stats[a_type_norm]['no'] += 1\n",
        "        else:\n",
        "            stats[a_type_norm]['other'] += 1\n",
        "\n",
        "    def summarize_for(key):\n",
        "        for stored_key, v in stats.items():\n",
        "            if stored_key and stored_key.lower() == key.lower():\n",
        "                total = v['total']\n",
        "                yes = v['yes']\n",
        "                no = v['no']\n",
        "                other = v['other']\n",
        "                acc_frac = (yes / total) if total > 0 else None\n",
        "                acc_percent = round(acc_frac * 100, 2) if acc_frac is not None else None\n",
        "                # return ordered mapping for fields (regular dict order is stable in 3.7+)\n",
        "                return OrderedDict([\n",
        "                    ('Answer Type', stored_key),\n",
        "                    ('accuracy_percent', acc_percent),\n",
        "                    ('no', no),\n",
        "                    ('other', other),\n",
        "                    ('total', total),\n",
        "                    ('yes', yes),\n",
        "                ])\n",
        "        # not found\n",
        "        return OrderedDict([\n",
        "            ('Answer Type', key),\n",
        "            ('accuracy_percent', None),\n",
        "            ('no', 0),\n",
        "            ('other', 0),\n",
        "            ('total', 0),\n",
        "            ('yes', 0),\n",
        "        ])\n",
        "\n",
        "    # overall calculations\n",
        "    total_items = sum(v['total'] for v in stats.values())\n",
        "    total_yes = sum(v['yes'] for v in stats.values())\n",
        "    overall_frac = (total_yes / total_items) if total_items > 0 else None\n",
        "    overall_percent = round(overall_frac * 100, 2) if overall_frac is not None else None\n",
        "\n",
        "    decision_known_total = sum((v['yes'] + v['no']) for v in stats.values())\n",
        "    decision_known_yes = sum(v['yes'] for v in stats.values())\n",
        "\n",
        "    # Ordered overall summary\n",
        "    overall_summary = OrderedDict([\n",
        "        ('accuracy_percent', overall_percent),\n",
        "        ('decision_known_total', decision_known_total),\n",
        "        ('decision_known_yes', decision_known_yes),\n",
        "        ('total_items', total_items),\n",
        "        ('yes', total_yes),\n",
        "    ])\n",
        "\n",
        "    # Build final OrderedDict in the exact order requested\n",
        "    final = OrderedDict()\n",
        "    final['Numerical'] = summarize_for('Numerical')\n",
        "    final['Proof'] = summarize_for('Proof')\n",
        "    final['Symbolic'] = summarize_for('Symbolic')\n",
        "    final['Overall'] = overall_summary\n",
        "\n",
        "    return final\n",
        "\n",
        "if __name__ == \"__main__\":\n",
        "    path = '/content/evaluation_results_Turkish_Mathstral_150.json'\n",
        "    res = compute_accuracy(path)\n",
        "\n",
        "    # Use json.dumps to print while preserving insertion order visually\n",
        "    print(json.dumps(res, indent=4, ensure_ascii=False))"
      ],
      "metadata": {
        "colab": {
          "base_uri": "https://localhost:8080/"
        },
        "id": "QPDoBQleYllT",
        "outputId": "14b1059b-f6e5-4834-a907-5a6d6b51b100"
      },
      "execution_count": null,
      "outputs": [
        {
          "output_type": "stream",
          "name": "stdout",
          "text": [
            "{\n",
            "    \"Numerical\": {\n",
            "        \"Answer Type\": \"Numerical\",\n",
            "        \"accuracy_percent\": 6.0,\n",
            "        \"no\": 47,\n",
            "        \"other\": 0,\n",
            "        \"total\": 50,\n",
            "        \"yes\": 3\n",
            "    },\n",
            "    \"Proof\": {\n",
            "        \"Answer Type\": \"Proof\",\n",
            "        \"accuracy_percent\": 32.0,\n",
            "        \"no\": 34,\n",
            "        \"other\": 0,\n",
            "        \"total\": 50,\n",
            "        \"yes\": 16\n",
            "    },\n",
            "    \"Symbolic\": {\n",
            "        \"Answer Type\": \"Symbolic\",\n",
            "        \"accuracy_percent\": 18.0,\n",
            "        \"no\": 41,\n",
            "        \"other\": 0,\n",
            "        \"total\": 50,\n",
            "        \"yes\": 9\n",
            "    },\n",
            "    \"Overall\": {\n",
            "        \"accuracy_percent\": 18.67,\n",
            "        \"decision_known_total\": 150,\n",
            "        \"decision_known_yes\": 28,\n",
            "        \"total_items\": 150,\n",
            "        \"yes\": 28\n",
            "    }\n",
            "}\n"
          ]
        }
      ]
    },
    {
      "cell_type": "code",
      "source": [
        "# import json\n",
        "# import os\n",
        "# from collections import defaultdict\n",
        "\n",
        "# def compute_accuracy(path):\n",
        "#     \"\"\"\n",
        "#     Compute accuracy (decision == 'yes') for Answer Types:\n",
        "#     Symbolic, Numerical, Proof. Returns a dict with summaries,\n",
        "#     plus overall accuracy (including items with 'other') and\n",
        "#     decision-known accuracy (only items with yes/no).\n",
        "#     \"\"\"\n",
        "#     if not os.path.exists(path):\n",
        "#         raise FileNotFoundError(f\"File not found: {path}\")\n",
        "\n",
        "#     with open(path, 'r', encoding='utf-8') as f:\n",
        "#         data = json.load(f)\n",
        "\n",
        "#     items = data.get('problem_evaluations', [])\n",
        "#     stats = defaultdict(lambda: {'total': 0, 'yes': 0, 'no': 0, 'other': 0})\n",
        "\n",
        "#     for it in items:\n",
        "#         a_type = it.get('answer_type')\n",
        "#         # Normalize Answer Type (keep None for missing)\n",
        "#         a_type_norm = a_type.strip() if isinstance(a_type, str) else None\n",
        "\n",
        "#         decision = str(it.get('decision', '')).strip().lower()\n",
        "\n",
        "#         stats[a_type_norm]['total'] += 1\n",
        "#         if decision == 'yes':\n",
        "#             stats[a_type_norm]['yes'] += 1\n",
        "#         elif decision == 'no':\n",
        "#             stats[a_type_norm]['no'] += 1\n",
        "#         else:\n",
        "#             stats[a_type_norm]['other'] += 1\n",
        "\n",
        "#     # helper to find a stored key case-insensitively\n",
        "#     def summarize_for(key):\n",
        "#         for stored_key, v in stats.items():\n",
        "#             if stored_key and stored_key.lower() == key.lower():\n",
        "#                 total = v['total']\n",
        "#                 yes = v['yes']\n",
        "#                 no = v['no']\n",
        "#                 other = v['other']\n",
        "#                 acc = (yes / total) if total > 0 else None\n",
        "#                 return {\n",
        "#                     'Answer Type': stored_key,\n",
        "#                     'total': total,\n",
        "#                     'yes': yes,\n",
        "#                     'no': no,\n",
        "#                     'other': other,\n",
        "#                     'accuracy_frac': acc,\n",
        "#                     'accuracy_percent': round(acc * 100, 2) if acc is not None else None\n",
        "#                 }\n",
        "#         # not found\n",
        "#         return {\n",
        "#             'Answer Type': key,\n",
        "#             'total': 0,\n",
        "#             'yes': 0,\n",
        "#             'no': 0,\n",
        "#             'other': 0,\n",
        "#             'accuracy_frac': None,\n",
        "#             'accuracy_percent': None\n",
        "#         }\n",
        "\n",
        "#     # overall calculations\n",
        "#     total_items = sum(v['total'] for v in stats.values())\n",
        "#     total_yes = sum(v['yes'] for v in stats.values())\n",
        "#     overall_frac = (total_yes / total_items) if total_items > 0 else None\n",
        "\n",
        "#     # accuracy only on items where decision is yes/no (ignore 'other')\n",
        "#     decision_known_total = sum((v['yes'] + v['no']) for v in stats.values())\n",
        "#     decision_known_yes = sum(v['yes'] for v in stats.values())\n",
        "#     decision_known_frac = (decision_known_yes / decision_known_total) if decision_known_total > 0 else None\n",
        "\n",
        "#     overall_summary = {\n",
        "#         'total_items': total_items,\n",
        "#         'yes': total_yes,\n",
        "#         'accuracy_frac': overall_frac,\n",
        "#         'accuracy_percent': round(overall_frac * 100, 2) if overall_frac is not None else None,\n",
        "#         'decision_known_total': decision_known_total,\n",
        "#         'decision_known_yes': decision_known_yes,\n",
        "#         'decision_known_accuracy_frac': decision_known_frac,\n",
        "#         'decision_known_accuracy_percent': round(decision_known_frac * 100, 2) if decision_known_frac is not None else None\n",
        "#     }\n",
        "\n",
        "#     # return requested summaries plus overall\n",
        "#     return {\n",
        "#         'Symbolic': summarize_for('Symbolic'),\n",
        "#         'Numerical': summarize_for('Numerical'),\n",
        "#         'Proof': summarize_for('Proof'),\n",
        "#         'Overall': overall_summary\n",
        "#     }\n",
        "\n",
        "# if __name__ == \"__main__\":\n",
        "#     # adjust this path to your environment (Colab: /content, sandbox: /mnt/data, etc.)\n",
        "#     path = '/content/evaluation_results_French_GPT_OSS_20B_150.json'\n",
        "#     res = compute_accuracy(path)\n",
        "#     import pprint\n",
        "#     pprint.pprint(res)\n",
        "\n",
        "#     # also print a short human-readable summary\n",
        "#     overall = res['Overall']\n",
        "#     if overall['accuracy_frac'] is not None:\n",
        "#         print(\"\\nOverall accuracy (counting every item): \"\n",
        "#               f\"{overall['accuracy_percent']}% ({overall['yes']}/{overall['total_items']})\")\n",
        "#     else:\n",
        "#         print(\"\\nOverall accuracy: No items found.\")\n",
        "\n",
        "#     if overall['decision_known_accuracy_frac'] is not None:\n",
        "#         print(\"Decision-known accuracy (only yes/no): \"\n",
        "#               f\"{overall['decision_known_accuracy_percent']}% \"\n",
        "#               f\"({overall['decision_known_yes']}/{overall['decision_known_total']})\")\n",
        "#     else:\n",
        "#         print(\"Decision-known accuracy: No yes/no decisions found.\")"
      ],
      "metadata": {
        "colab": {
          "base_uri": "https://localhost:8080/"
        },
        "id": "G9JWAiUWTq0q",
        "outputId": "93ae445c-05bd-4f27-95bc-3ead53798b08"
      },
      "execution_count": null,
      "outputs": [
        {
          "output_type": "stream",
          "name": "stdout",
          "text": [
            "{'Numerical': {'Answer Type': 'Numerical',\n",
            "               'accuracy_frac': 0.7,\n",
            "               'accuracy_percent': 70.0,\n",
            "               'no': 15,\n",
            "               'other': 0,\n",
            "               'total': 50,\n",
            "               'yes': 35},\n",
            " 'Overall': {'accuracy_frac': 0.76,\n",
            "             'accuracy_percent': 76.0,\n",
            "             'decision_known_accuracy_frac': 0.76,\n",
            "             'decision_known_accuracy_percent': 76.0,\n",
            "             'decision_known_total': 150,\n",
            "             'decision_known_yes': 114,\n",
            "             'total_items': 150,\n",
            "             'yes': 114},\n",
            " 'Proof': {'Answer Type': 'Proof',\n",
            "           'accuracy_frac': 0.74,\n",
            "           'accuracy_percent': 74.0,\n",
            "           'no': 13,\n",
            "           'other': 0,\n",
            "           'total': 50,\n",
            "           'yes': 37},\n",
            " 'Symbolic': {'Answer Type': 'Symbolic',\n",
            "              'accuracy_frac': 0.84,\n",
            "              'accuracy_percent': 84.0,\n",
            "              'no': 8,\n",
            "              'other': 0,\n",
            "              'total': 50,\n",
            "              'yes': 42}}\n",
            "\n",
            "Overall accuracy (counting every item): 76.0% (114/150)\n",
            "Decision-known accuracy (only yes/no): 76.0% (114/150)\n"
          ]
        }
      ]
    }
  ]
}